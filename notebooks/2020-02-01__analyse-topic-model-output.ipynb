{
 "cells": [
  {
   "cell_type": "code",
   "execution_count": 11,
   "metadata": {},
   "outputs": [],
   "source": [
    "import pickle \n",
    "import os\n",
    "import sys\n",
    "import pandas as pd\n",
    "sys.path.append('../topic_model/')\n",
    "from sampler import BOW_Paragraph_GibbsSampler"
   ]
  },
  {
   "cell_type": "code",
   "execution_count": 206,
   "metadata": {},
   "outputs": [],
   "source": [
    "def get_pmi(df):\n",
    "    p_x = df.sum(axis=1).pipe(lambda s: s/s.sum())\n",
    "    p_y = df.sum(axis=0).pipe(lambda s: s/s.sum())\n",
    "    p_x_y = df / df.sum().sum()\n",
    "\n",
    "    output_df = pd.DataFrame(columns=df.columns, index=df.index)\n",
    "\n",
    "    for x in df.index:\n",
    "        for y in df.columns:\n",
    "            output_df.at[x, y] = np.log(p_x_y.loc[x, y]) - np.log(p_x[x]) - np.log(p_y[y])\n",
    "    \n",
    "    return output_df"
   ]
  },
  {
   "cell_type": "code",
   "execution_count": 231,
   "metadata": {},
   "outputs": [],
   "source": [
    "with open('../topic_model/output/trained-sampled-iter-40.pkl', 'rb') as f:\n",
    "    tm = pickle.load(f)"
   ]
  },
  {
   "cell_type": "code",
   "execution_count": 36,
   "metadata": {},
   "outputs": [
    {
     "data": {
      "text/plain": [
       "['doc_vecs.json', 'vocab.txt']"
      ]
     },
     "execution_count": 36,
     "metadata": {},
     "output_type": "execute_result"
    }
   ],
   "source": [
    "os.listdir('../topic_model/data/')"
   ]
  },
  {
   "cell_type": "code",
   "execution_count": 38,
   "metadata": {},
   "outputs": [],
   "source": [
    "with open('../topic_model/data/vocab.txt') as f:\n",
    "    vocab = f.readlines()\n",
    "    vocab = list(map(lambda x: x.strip(), vocab))"
   ]
  },
  {
   "cell_type": "code",
   "execution_count": 40,
   "metadata": {},
   "outputs": [],
   "source": [
    "vocab_dict = dict(enumerate(vocab))"
   ]
  },
  {
   "cell_type": "code",
   "execution_count": 236,
   "metadata": {},
   "outputs": [],
   "source": [
    "word_flat = {}\n",
    "for doc_id, doc in enumerate(tm.docs[:1000]):\n",
    "    for par_id, par in enumerate(doc):\n",
    "        for word_id, word in enumerate(par):\n",
    "            word_flat[(doc_id, par_id, word_id)] = vocab_dict[word]"
   ]
  },
  {
   "cell_type": "code",
   "execution_count": 237,
   "metadata": {},
   "outputs": [],
   "source": [
    "word_s = pd.Series(word_flat)"
   ]
  },
  {
   "cell_type": "code",
   "execution_count": 232,
   "metadata": {},
   "outputs": [],
   "source": [
    "switch_s = pd.Series(tm.switching_variable)"
   ]
  },
  {
   "cell_type": "code",
   "execution_count": 238,
   "metadata": {},
   "outputs": [],
   "source": [
    "word_and_switch = pd.concat([\n",
    "    word_s.to_frame('word'), \n",
    "    switch_s.to_frame('switch')\n",
    "], axis=1)"
   ]
  },
  {
   "cell_type": "code",
   "execution_count": 239,
   "metadata": {},
   "outputs": [],
   "source": [
    "switch_mean = word_and_switch.groupby('word')['switch'].mean()"
   ]
  },
  {
   "cell_type": "code",
   "execution_count": 240,
   "metadata": {},
   "outputs": [],
   "source": [
    "word_counts = word_s.to_frame('word').assign(c=1).groupby('word')['c'].sum()"
   ]
  },
  {
   "cell_type": "code",
   "execution_count": 241,
   "metadata": {},
   "outputs": [],
   "source": [
    "switch_mean_and_counts = pd.concat([\n",
    "    switch_mean.to_frame('mean'),\n",
    "    word_counts.to_frame('counts')\n",
    "], axis=1)"
   ]
  },
  {
   "cell_type": "code",
   "execution_count": 242,
   "metadata": {},
   "outputs": [],
   "source": [
    "switch_mean_and_counts.to_csv('partial_results/mean_and_counts_small.csv')"
   ]
  },
  {
   "cell_type": "code",
   "execution_count": 101,
   "metadata": {},
   "outputs": [],
   "source": [
    "# switch_mean_and_counts.to_csv('partial_results/mean_and_counts.csv')"
   ]
  },
  {
   "cell_type": "code",
   "execution_count": 243,
   "metadata": {},
   "outputs": [],
   "source": [
    "import spacy\n",
    "from tqdm import tqdm_notebook as tqdm"
   ]
  },
  {
   "cell_type": "code",
   "execution_count": 244,
   "metadata": {},
   "outputs": [],
   "source": [
    "nlp = spacy.load('en_core_web_sm')"
   ]
  },
  {
   "cell_type": "code",
   "execution_count": 245,
   "metadata": {},
   "outputs": [
    {
     "data": {
      "application/vnd.jupyter.widget-view+json": {
       "model_id": "893940af516d4f45a88bbb7ff5f77911",
       "version_major": 2,
       "version_minor": 0
      },
      "text/plain": [
       "HBox(children=(IntProgress(value=0, max=8658), HTML(value='')))"
      ]
     },
     "metadata": {},
     "output_type": "display_data"
    },
    {
     "name": "stdout",
     "output_type": "stream",
     "text": [
      "\n"
     ]
    }
   ],
   "source": [
    "pos_tags = {}\n",
    "for word in tqdm(switch_mean_and_counts.index):\n",
    "    pos_tags[word] = nlp(word)[0].tag_"
   ]
  },
  {
   "cell_type": "code",
   "execution_count": 246,
   "metadata": {},
   "outputs": [
    {
     "data": {
      "application/vnd.jupyter.widget-view+json": {
       "model_id": "706d4a8368024b6183918d3247b786db",
       "version_major": 2,
       "version_minor": 0
      },
      "text/plain": [
       "HBox(children=(IntProgress(value=0, max=8658), HTML(value='')))"
      ]
     },
     "metadata": {},
     "output_type": "display_data"
    },
    {
     "name": "stdout",
     "output_type": "stream",
     "text": [
      "\n"
     ]
    }
   ],
   "source": [
    "pos = {}\n",
    "for word in tqdm(switch_mean_and_counts.index):\n",
    "    pos[word] = nlp(word)[0].pos_"
   ]
  },
  {
   "cell_type": "code",
   "execution_count": 247,
   "metadata": {},
   "outputs": [],
   "source": [
    "switch_mean_and_counts = pd.concat([\n",
    "    switch_mean_and_counts,\n",
    "    pd.Series(pos_tags).to_frame('pos_tags'),\n",
    "    pd.Series(pos).to_frame('pos')\n",
    "], sort=True, axis=1)"
   ]
  },
  {
   "cell_type": "code",
   "execution_count": 256,
   "metadata": {},
   "outputs": [],
   "source": [
    "sorted_switch = (switch_mean_and_counts\n",
    " .sort_values('mean')\n",
    " .loc[lambda df: df['counts']>10]\n",
    ")"
   ]
  },
  {
   "cell_type": "code",
   "execution_count": null,
   "metadata": {},
   "outputs": [],
   "source": []
  },
  {
   "cell_type": "code",
   "execution_count": 257,
   "metadata": {},
   "outputs": [],
   "source": [
    "%matplotlib inline\n",
    "import matplotlib.pyplot as plt"
   ]
  },
  {
   "cell_type": "code",
   "execution_count": 258,
   "metadata": {},
   "outputs": [],
   "source": [
    "t = pd.concat([\n",
    "    sorted_switch.iloc[:500].assign(c=1).groupby('pos')['c'].sum().pipe(lambda s: s/s.sum()).to_frame('s=0, 500'),\n",
    "    sorted_switch.iloc[:1000].assign(c=1).groupby('pos')['c'].sum().pipe(lambda s: s/s.sum()).to_frame('s=0, 1000'),\n",
    "    sorted_switch.iloc[-1000:].assign(c=1).groupby('pos')['c'].sum().pipe(lambda s: s/s.sum()).to_frame('s=1 1000'),\n",
    "    sorted_switch.iloc[-500:].assign(c=1).groupby('pos')['c'].sum().pipe(lambda s: s/s.sum()).to_frame('s=1, 500'),\n",
    "    sorted_switch.assign(c=1).groupby('pos')['c'].sum().to_frame('overall')\n",
    "], axis=1, sort=True).fillna(0)#.plot(kind='bar')"
   ]
  },
  {
   "cell_type": "code",
   "execution_count": 259,
   "metadata": {},
   "outputs": [],
   "source": [
    "plt.rc('font', size=18)"
   ]
  },
  {
   "cell_type": "code",
   "execution_count": 368,
   "metadata": {},
   "outputs": [
    {
     "data": {
      "image/png": "[encoded data removed]",
      "text/plain": [
       "<Figure size 288x144 with 1 Axes>"
      ]
     },
     "metadata": {
      "needs_background": "light"
     },
     "output_type": "display_data"
    }
   ],
   "source": [
    "ax = (t.loc[lambda df: df['overall'] > 50]\n",
    " .drop('overall', axis=1) #.divide(overall, axis=0)\n",
    " .sort_index()\n",
    " .dropna()\n",
    " .plot(kind='bar', figsize=(4, 2))\n",
    ")\n",
    "\n",
    "plt.legend(fontsize=12, ncol=2, bbox_to_anchor=(.57, .5, .5, .9), frameon=False)\n",
    "ax.spines['right'].set_visible(False)\n",
    "ax.spines['top'].set_visible(False)\n",
    "plt.ylabel('Dist. over POS')\n",
    "\n",
    "plt.savefig('../latex/5df51b949f011e000148988d/figures/switching-var.png', bbox_inches='tight')\n",
    "plt.savefig('../latex/5df51b949f011e000148988d/figures/switching-var.pdf', bbox_inches='tight')"
   ]
  },
  {
   "cell_type": "code",
   "execution_count": 262,
   "metadata": {},
   "outputs": [],
   "source": [
    "import pyperclip"
   ]
  },
  {
   "cell_type": "code",
   "execution_count": 275,
   "metadata": {},
   "outputs": [],
   "source": [
    "pyperclip.copy((sorted_switch.assign(mean=lambda df: df['mean'].round(2))\n",
    " .pipe(lambda s:\n",
    "       pd.concat([   \n",
    "            s.iloc[:10][['mean']].reset_index(),\n",
    "            s.iloc[-10:][['mean']].sort_values('mean', ascending=False).reset_index()\n",
    "       ], axis=1)\n",
    "      )\n",
    ").to_latex())"
   ]
  },
  {
   "cell_type": "code",
   "execution_count": null,
   "metadata": {},
   "outputs": [],
   "source": []
  },
  {
   "cell_type": "markdown",
   "metadata": {},
   "source": [
    "# Paragraph type"
   ]
  },
  {
   "cell_type": "code",
   "execution_count": 277,
   "metadata": {},
   "outputs": [
    {
     "data": {
      "text/plain": [
       "array([12624., 12614., 12643., 12609., 12508., 12274., 12473., 12488.,\n",
       "       12619., 12441., 12607., 12406., 12693., 12513., 12457., 12597.,\n",
       "       12482., 12494., 12483., 12404., 12604., 12473., 12487., 12472.,\n",
       "       12539.])"
      ]
     },
     "execution_count": 277,
     "metadata": {},
     "output_type": "execute_result"
    }
   ],
   "source": [
    "tm.wordtopic__word_counts"
   ]
  },
  {
   "cell_type": "code",
   "execution_count": 278,
   "metadata": {},
   "outputs": [],
   "source": [
    "partype_s = pd.Series(tm.pardoc_to_type)"
   ]
  },
  {
   "cell_type": "code",
   "execution_count": 279,
   "metadata": {},
   "outputs": [
    {
     "data": {
      "text/html": [
       "<div>\n",
       "<style scoped>\n",
       "    .dataframe tbody tr th:only-of-type {\n",
       "        vertical-align: middle;\n",
       "    }\n",
       "\n",
       "    .dataframe tbody tr th {\n",
       "        vertical-align: top;\n",
       "    }\n",
       "\n",
       "    .dataframe thead th {\n",
       "        text-align: right;\n",
       "    }\n",
       "</style>\n",
       "<table border=\"1\" class=\"dataframe\">\n",
       "  <thead>\n",
       "    <tr style=\"text-align: right;\">\n",
       "      <th></th>\n",
       "      <th>Par. Type</th>\n",
       "    </tr>\n",
       "  </thead>\n",
       "  <tbody>\n",
       "    <tr>\n",
       "      <th>2</th>\n",
       "      <td>2623</td>\n",
       "    </tr>\n",
       "    <tr>\n",
       "      <th>0</th>\n",
       "      <td>2301</td>\n",
       "    </tr>\n",
       "    <tr>\n",
       "      <th>4</th>\n",
       "      <td>2148</td>\n",
       "    </tr>\n",
       "    <tr>\n",
       "      <th>5</th>\n",
       "      <td>1978</td>\n",
       "    </tr>\n",
       "    <tr>\n",
       "      <th>6</th>\n",
       "      <td>1931</td>\n",
       "    </tr>\n",
       "    <tr>\n",
       "      <th>7</th>\n",
       "      <td>1736</td>\n",
       "    </tr>\n",
       "    <tr>\n",
       "      <th>1</th>\n",
       "      <td>1622</td>\n",
       "    </tr>\n",
       "    <tr>\n",
       "      <th>8</th>\n",
       "      <td>1545</td>\n",
       "    </tr>\n",
       "    <tr>\n",
       "      <th>3</th>\n",
       "      <td>1455</td>\n",
       "    </tr>\n",
       "    <tr>\n",
       "      <th>9</th>\n",
       "      <td>1373</td>\n",
       "    </tr>\n",
       "  </tbody>\n",
       "</table>\n",
       "</div>"
      ],
      "text/plain": [
       "   Par. Type\n",
       "2       2623\n",
       "0       2301\n",
       "4       2148\n",
       "5       1978\n",
       "6       1931\n",
       "7       1736\n",
       "1       1622\n",
       "8       1545\n",
       "3       1455\n",
       "9       1373"
      ]
     },
     "execution_count": 279,
     "metadata": {},
     "output_type": "execute_result"
    }
   ],
   "source": [
    "partype_s.value_counts().to_frame('Par. Type')"
   ]
  },
  {
   "cell_type": "code",
   "execution_count": 280,
   "metadata": {},
   "outputs": [],
   "source": [
    "partype_by_topic_df = pd.DataFrame(tm.partype_by_wordtopic__wordtopic_counts).T"
   ]
  },
  {
   "cell_type": "code",
   "execution_count": 281,
   "metadata": {},
   "outputs": [],
   "source": [
    "partype_by_topic_pmi = get_pmi(partype_by_topic_df)"
   ]
  },
  {
   "cell_type": "code",
   "execution_count": 282,
   "metadata": {},
   "outputs": [],
   "source": [
    "topic_df = pd.DataFrame(tm.vocab_by_wordtopic__word_counts[:-1,:], index=vocab)\n",
    "topic_df = topic_df/topic_df.sum(axis=0)"
   ]
  },
  {
   "cell_type": "code",
   "execution_count": 283,
   "metadata": {},
   "outputs": [],
   "source": [
    "import numpy as np \n",
    "from scipy.stats import entropy\n",
    "from IPython.display import HTML\n",
    "\n",
    "## get top words by topic\n",
    "top_words_by_topic = []\n",
    "for i in topic_df.columns:\n",
    "    sorted_topics = topic_df[i].sort_values(ascending=False).iloc[10:20]\n",
    "    top_words_by_topic.append(list(sorted_topics.index))\n",
    "\n",
    "## reformat into an HTML table for easier reading\n",
    "ncols = 10\n",
    "table = []\n",
    "row = []\n",
    "for topic, words in enumerate(top_words_by_topic):\n",
    "    subtable_header = '<th>%s</th>' % words[0].upper()\n",
    "    subtable_body = ''.join(list(map(lambda elem: '<tr><td>%s</td></tr>' % elem, words[1:])))\n",
    "    subtable = '<table><tr>%s</tr>%s</table>' % (subtable_header, subtable_body)\n",
    "    row.append(subtable)    \n",
    "    if (topic % ncols == (ncols - 1)) or (topic == len(top_words_by_topic) - 1) :\n",
    "        table.append('\\n'.join(list(map(lambda elem: '<td>%s</td>' % elem, row))))\n",
    "        row = []"
   ]
  },
  {
   "cell_type": "code",
   "execution_count": 284,
   "metadata": {},
   "outputs": [],
   "source": [
    "sorted_topic_df = pd.DataFrame(top_words_by_topic).T\n",
    "header = sorted_topic_df.loc[0].values\n",
    "sorted_topic_df = sorted_topic_df.iloc[1:,:]\n",
    "sorted_topic_df.columns= header"
   ]
  },
  {
   "cell_type": "code",
   "execution_count": 285,
   "metadata": {},
   "outputs": [],
   "source": [
    "from collections import defaultdict"
   ]
  },
  {
   "cell_type": "code",
   "execution_count": 286,
   "metadata": {
    "scrolled": true
   },
   "outputs": [
    {
     "name": "stdout",
     "output_type": "stream",
     "text": [
      "0\n",
      "    topic 14: law, today, million, death, jury, office...\n",
      "    topic 20: president, trial, crimes, charges, department, according...\n",
      "    topic 22: law, man, crimes, today, president, public...\n",
      "\n",
      "\n",
      "1\n",
      "    topic 11: judge, trial, charges, american, according, white...\n",
      "    topic 20: president, trial, crimes, charges, department, according...\n",
      "    topic 5: president, black, judge, prison, jury, department...\n",
      "\n",
      "\n",
      "2\n",
      "    topic 4: department, general, trial, law, american, charges...\n",
      "    topic 18: united, percent, black, street, political, trial...\n",
      "    topic 13: million, trial, justice, black, work, american...\n",
      "\n",
      "\n",
      "3\n",
      "    topic 12: president, states, today, black, death, judge...\n",
      "    topic 1: cases, evidence, charges, officers, law, public...\n",
      "    topic 6: office, million, prison, charges, judge, law...\n",
      "\n",
      "\n",
      "4\n",
      "    topic 17: charges, department, percent, judge, street, million...\n",
      "    topic 10: today, public, law, use, told, crimes...\n",
      "    topic 16: prison, criminal, today, million, charges, general...\n",
      "\n",
      "\n",
      "5\n",
      "    topic 5: president, black, judge, prison, jury, department...\n",
      "    topic 3: evidence, judge, criminal, public, death, percent...\n",
      "    topic 8: president, district, charges, american, evidence, crimes...\n",
      "\n",
      "\n",
      "6\n",
      "    topic 23: charges, black, department, president, yesterday, jury...\n",
      "    topic 16: prison, criminal, today, million, charges, general...\n",
      "    topic 12: president, states, today, black, death, judge...\n",
      "\n",
      "\n",
      "7\n",
      "    topic 18: united, percent, black, street, political, trial...\n",
      "    topic 19: law, justice, according, judge, federal, criminal...\n",
      "    topic 9: house, charges, crimes, president, criminal, department...\n",
      "\n",
      "\n",
      "8\n",
      "    topic 13: million, trial, justice, black, work, american...\n",
      "    topic 4: department, general, trial, law, american, charges...\n",
      "    topic 3: evidence, judge, criminal, public, death, percent...\n",
      "\n",
      "\n",
      "9\n",
      "    topic 16: prison, criminal, today, million, charges, general...\n",
      "    topic 8: president, district, charges, american, evidence, crimes...\n",
      "    topic 4: department, general, trial, law, american, charges...\n",
      "\n",
      "\n",
      "...\n"
     ]
    }
   ],
   "source": [
    "partype_to_topicwords = defaultdict(list)\n",
    "for col in partype_by_topic_pmi.columns:\n",
    "    print(col)\n",
    "    for topic in (\n",
    "        # sourcetype_by_topic\n",
    "        #   .pipe(lambda df: df / df.sum(axis=0))[col]\n",
    "        partype_by_topic_pmi[col]\n",
    "            .sort_values(ascending=False)\n",
    "                .head(3)\n",
    "                .index\n",
    "    ):\n",
    "        \n",
    "        top_par_topicwords = [sorted_topic_df.columns[topic]] + sorted_topic_df.iloc[:, topic].tolist()[:5]\n",
    "        partype_to_topicwords[col].append( ', '.join(top_par_topicwords[:3]))\n",
    "        print(\n",
    "            '    topic ' + str(topic) + ': ' + \n",
    "                ', '.join(top_par_topicwords) + \n",
    "                '...'\n",
    "        )\n",
    "    print()\n",
    "    print()\n",
    "print('...')"
   ]
  },
  {
   "cell_type": "code",
   "execution_count": 287,
   "metadata": {},
   "outputs": [
    {
     "data": {
      "text/plain": [
       "defaultdict(list,\n",
       "            {0: ['law, today, million',\n",
       "              'president, trial, crimes',\n",
       "              'law, man, crimes'],\n",
       "             1: ['judge, trial, charges',\n",
       "              'president, trial, crimes',\n",
       "              'president, black, judge'],\n",
       "             2: ['department, general, trial',\n",
       "              'united, percent, black',\n",
       "              'million, trial, justice'],\n",
       "             3: ['president, states, today',\n",
       "              'cases, evidence, charges',\n",
       "              'office, million, prison'],\n",
       "             4: ['charges, department, percent',\n",
       "              'today, public, law',\n",
       "              'prison, criminal, today'],\n",
       "             5: ['president, black, judge',\n",
       "              'evidence, judge, criminal',\n",
       "              'president, district, charges'],\n",
       "             6: ['charges, black, department',\n",
       "              'prison, criminal, today',\n",
       "              'president, states, today'],\n",
       "             7: ['united, percent, black',\n",
       "              'law, justice, according',\n",
       "              'house, charges, crimes'],\n",
       "             8: ['million, trial, justice',\n",
       "              'department, general, trial',\n",
       "              'evidence, judge, criminal'],\n",
       "             9: ['prison, criminal, today',\n",
       "              'president, district, charges',\n",
       "              'department, general, trial']})"
      ]
     },
     "execution_count": 287,
     "metadata": {},
     "output_type": "execute_result"
    }
   ],
   "source": [
    "partype_to_topicwords"
   ]
  },
  {
   "cell_type": "code",
   "execution_count": 288,
   "metadata": {},
   "outputs": [],
   "source": [
    "def list_to_enumerate(x):\n",
    "    output = '\\n'\n",
    "    output += '\\\\makecell{'\n",
    "    for i in x:\n",
    "        output += '\\n'\n",
    "        output += i\n",
    "        output += '\\\\\\\\'\n",
    "    output += '\\n'\n",
    "    output += '}'\n",
    "    output += '\\n'\n",
    "    return output"
   ]
  },
  {
   "cell_type": "code",
   "execution_count": 290,
   "metadata": {},
   "outputs": [],
   "source": [
    "pd.options.display.max_colwidth = 200"
   ]
  },
  {
   "cell_type": "code",
   "execution_count": 291,
   "metadata": {},
   "outputs": [],
   "source": [
    "pyperclip.copy(\n",
    "    pd.Series(partype_to_topicwords)#[source_cols_to_use]\n",
    "    .to_latex(escape=False, formatters={0: list_to_enumerate}, header=False)\n",
    ")"
   ]
  },
  {
   "cell_type": "code",
   "execution_count": null,
   "metadata": {},
   "outputs": [],
   "source": []
  },
  {
   "cell_type": "code",
   "execution_count": 324,
   "metadata": {},
   "outputs": [],
   "source": [
    "transition_mat = np.zeros((10, 10))\n",
    "\n",
    "old_partype = list(tm.pardoc_to_type.items())[0][1]\n",
    "for idx, new_partype in list(tm.pardoc_to_type.items())[1:]:\n",
    "    if idx[1] != 0:\n",
    "        transition_mat[old_partype, new_partype] += 1\n",
    "    old_partype = new_partype"
   ]
  },
  {
   "cell_type": "code",
   "execution_count": 302,
   "metadata": {},
   "outputs": [],
   "source": [
    "import seaborn as sns"
   ]
  },
  {
   "cell_type": "code",
   "execution_count": 333,
   "metadata": {},
   "outputs": [
    {
     "data": {
      "image/png": "[encoded data removed]",
      "text/plain": [
       "<Figure size 432x288 with 2 Axes>"
      ]
     },
     "metadata": {
      "needs_background": "light"
     },
     "output_type": "display_data"
    }
   ],
   "source": [
    "sns.heatmap(transition_mat / transition_mat.sum(axis=1))\n",
    "plt.xlabel('Partype $T_{i-1}$')\n",
    "plt.ylabel('Partype $T_{i}$')\n",
    "plt.savefig('../latex/5df51b949f011e000148988d/figures/transition-matrix.png',bbox_inches='tight')\n",
    "plt.savefig('../latex/5df51b949f011e000148988d/figures/transition-matrix.pdf', bbox_inches='tight')"
   ]
  },
  {
   "cell_type": "code",
   "execution_count": null,
   "metadata": {},
   "outputs": [],
   "source": []
  },
  {
   "cell_type": "code",
   "execution_count": 309,
   "metadata": {},
   "outputs": [],
   "source": [
    "import json"
   ]
  },
  {
   "cell_type": "code",
   "execution_count": 310,
   "metadata": {},
   "outputs": [],
   "source": [
    "with open('results/Kmeans_nested_par_clusters.json') as f:\n",
    "    word_embeddings = json.load(f)"
   ]
  },
  {
   "cell_type": "code",
   "execution_count": 314,
   "metadata": {},
   "outputs": [],
   "source": [
    "transition_mat_glove = np.zeros((10, 10))"
   ]
  },
  {
   "cell_type": "code",
   "execution_count": 320,
   "metadata": {},
   "outputs": [],
   "source": [
    "for doc in word_embeddings:\n",
    "    for old, new in zip(doc[:-1], doc[1:]):\n",
    "        transition_mat_glove[old, new] += 1"
   ]
  },
  {
   "cell_type": "code",
   "execution_count": 332,
   "metadata": {},
   "outputs": [
    {
     "data": {
      "image/png": "[encoded data removed]",
      "text/plain": [
       "<Figure size 432x288 with 2 Axes>"
      ]
     },
     "metadata": {
      "needs_background": "light"
     },
     "output_type": "display_data"
    }
   ],
   "source": [
    "sns.heatmap(transition_mat_glove / transition_mat_glove.sum(axis=1))\n",
    "plt.xlabel('Partype $T_{i-1}$')\n",
    "plt.ylabel('Partype $T_{i}$')\n",
    "plt.savefig('../latex/5df51b949f011e000148988d/figures/transition-matrix-glove.png',bbox_inches='tight')\n",
    "plt.savefig('../latex/5df51b949f011e000148988d/figures/transition-matrix-glove.pdf', bbox_inches='tight')"
   ]
  },
  {
   "cell_type": "code",
   "execution_count": 335,
   "metadata": {
    "scrolled": true
   },
   "outputs": [],
   "source": [
    "first_pars = pd.Series(tm.pardoc_to_type).reset_index().loc[lambda df: df['level_1'] == 0][0]"
   ]
  },
  {
   "cell_type": "code",
   "execution_count": 338,
   "metadata": {},
   "outputs": [],
   "source": [
    "first_pars_glove = list(map(lambda x: x[0], word_embeddings))"
   ]
  },
  {
   "cell_type": "code",
   "execution_count": null,
   "metadata": {},
   "outputs": [],
   "source": []
  },
  {
   "cell_type": "code",
   "execution_count": 339,
   "metadata": {},
   "outputs": [],
   "source": [
    "from scipy.stats import entropy"
   ]
  },
  {
   "cell_type": "code",
   "execution_count": 351,
   "metadata": {},
   "outputs": [
    {
     "data": {
      "text/plain": [
       "2    143\n",
       "5    126\n",
       "0    120\n",
       "4    109\n",
       "7     98\n",
       "6     97\n",
       "3     88\n",
       "1     84\n",
       "9     79\n",
       "8     56\n",
       "Name: 0, dtype: int64"
      ]
     },
     "execution_count": 351,
     "metadata": {},
     "output_type": "execute_result"
    }
   ],
   "source": [
    "first_pars.value_counts()"
   ]
  },
  {
   "cell_type": "code",
   "execution_count": 350,
   "metadata": {},
   "outputs": [
    {
     "data": {
      "text/plain": [
       "2.272966944654734"
      ]
     },
     "execution_count": 350,
     "metadata": {},
     "output_type": "execute_result"
    }
   ],
   "source": [
    "first_pars.value_counts().pipe(lambda x: x/x.sum()).pipe(lambda s: entropy(s.values))"
   ]
  },
  {
   "cell_type": "code",
   "execution_count": 349,
   "metadata": {},
   "outputs": [
    {
     "data": {
      "text/plain": [
       "2.222886546247652"
      ]
     },
     "execution_count": 349,
     "metadata": {},
     "output_type": "execute_result"
    }
   ],
   "source": [
    "pd.Series(first_pars_glove).value_counts().pipe(lambda x: x/x.sum()).pipe(lambda s: entropy(s.values))"
   ]
  },
  {
   "cell_type": "code",
   "execution_count": null,
   "metadata": {},
   "outputs": [],
   "source": []
  },
  {
   "cell_type": "code",
   "execution_count": null,
   "metadata": {},
   "outputs": [],
   "source": []
  },
  {
   "cell_type": "markdown",
   "metadata": {},
   "source": [
    "# Comparison of First Par-Type"
   ]
  },
  {
   "cell_type": "code",
   "execution_count": null,
   "metadata": {},
   "outputs": [],
   "source": []
  },
  {
   "cell_type": "code",
   "execution_count": null,
   "metadata": {},
   "outputs": [],
   "source": []
  },
  {
   "cell_type": "code",
   "execution_count": null,
   "metadata": {},
   "outputs": [],
   "source": []
  },
  {
   "cell_type": "code",
   "execution_count": null,
   "metadata": {},
   "outputs": [],
   "source": []
  },
  {
   "cell_type": "markdown",
   "metadata": {},
   "source": [
    "# Check out ICEWS"
   ]
  },
  {
   "cell_type": "code",
   "execution_count": 369,
   "metadata": {},
   "outputs": [],
   "source": [
    "import pandas as pd"
   ]
  },
  {
   "cell_type": "code",
   "execution_count": 370,
   "metadata": {},
   "outputs": [],
   "source": [
    "events_df = pd.read_csv('C:/Users/alexa/Downloads/events.2013.20150313084929.tab/events.2013.20150313084929.tab', sep='\\t')"
   ]
  },
  {
   "cell_type": "code",
   "execution_count": 372,
   "metadata": {},
   "outputs": [
    {
     "data": {
      "text/plain": [
       "(734989, 20)"
      ]
     },
     "execution_count": 372,
     "metadata": {},
     "output_type": "execute_result"
    }
   ],
   "source": [
    "events_df.shape"
   ]
  },
  {
   "cell_type": "code",
   "execution_count": null,
   "metadata": {},
   "outputs": [],
   "source": []
  }
 ],
 "metadata": {
  "hide_input": false,
  "kernelspec": {
   "display_name": "Python 3",
   "language": "python",
   "name": "python3"
  },
  "language_info": {
   "codemirror_mode": {
    "name": "ipython",
    "version": 3
   },
   "file_extension": ".py",
   "mimetype": "text/x-python",
   "name": "python",
   "nbconvert_exporter": "python",
   "pygments_lexer": "ipython3",
   "version": "3.7.3"
  },
  "latex_envs": {
   "LaTeX_envs_menu_present": true,
   "autoclose": false,
   "autocomplete": true,
   "bibliofile": "biblio.bib",
   "cite_by": "apalike",
   "current_citInitial": 1,
   "eqLabelWithNumbers": true,
   "eqNumInitial": 1,
   "hotkeys": {
    "equation": "Ctrl-E",
    "itemize": "Ctrl-I"
   },
   "labels_anchors": false,
   "latex_user_defs": false,
   "report_style_numbering": false,
   "user_envs_cfg": false
  }
 },
 "nbformat": 4,
 "nbformat_minor": 2
}
