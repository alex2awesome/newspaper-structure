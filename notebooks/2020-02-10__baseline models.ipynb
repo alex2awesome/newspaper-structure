{
 "cells": [
  {
   "cell_type": "code",
   "execution_count": 180,
   "metadata": {},
   "outputs": [],
   "source": [
    "import pandas as pd \n",
    "import gensim\n",
    "from gensim.sklearn_api import d2vmodel\n",
    "from sklearn.svm import SVC, LinearSVC\n",
    "from sklearn.feature_extraction.text import CountVectorizer, TfidfVectorizer, TfidfTransformer\n",
    "from sklearn.pipeline import Pipeline, FeatureUnion\n",
    "from discourse_learning import D2VTx\n",
    "from sklearn.base import TransformerMixin, BaseEstimator\n",
    "import numpy as np \n",
    "from sklearn.model_selection import train_test_split, KFold\n",
    "from sklearn.metrics import f1_score\n",
    "from tqdm import tqdm_notebook as tqdm\n",
    "%matplotlib inline"
   ]
  },
  {
   "cell_type": "markdown",
   "metadata": {},
   "source": [
    "Previous Work:\n",
    "\n",
    "* Bag of Words.\n",
    "* TF-IDF.\n",
    "* Paragraph Vectors.\n",
    "* Previous Paragraph's Label"
   ]
  },
  {
   "cell_type": "code",
   "execution_count": 320,
   "metadata": {},
   "outputs": [],
   "source": [
    "class Features(BaseEstimator, TransformerMixin):\n",
    "    def __init__(self, min_df=8, max_df=.5):\n",
    "        self.min_df = min_df\n",
    "        self.max_df = max_df\n",
    "    \n",
    "    def fit(self, data_df, y=None):\n",
    "        text = data_df['paragraph_text']\n",
    "        self.cv = (\n",
    "            CountVectorizer(stop_words='english', min_df=self.min_df, max_df=self.max_df)\n",
    "                   .fit(text)\n",
    "        )\n",
    "        self.tfidf = (\n",
    "            Pipeline([('vect', CountVectorizer(stop_words=\"english\", min_df=self.min_df, max_df=self.max_df)),\n",
    "                      ('tfidf', TfidfTransformer())])\n",
    "                   .fit(text)\n",
    "        )\n",
    "        self.d2v = (\n",
    "            D2VTx(dm=0, min_alpha=0.01, min_count=5, steps=50)\n",
    "                   .fit(text.tolist())\n",
    "        )\n",
    "        self.label_mapping = {'LEAD': 0, 'CIRC': 1, 'MAIN': 2, 'VERB': 3,\n",
    "                              'CONS': 4, 'PREV': 5, 'EVAL': 6, 'HIST': 7,\n",
    "                              'EXPE': 8, 'SECD': 9, 'EXPL': 10, 'NONE': 11}\n",
    "        return self\n",
    "        \n",
    "    def transform(self, data_df):\n",
    "        text = data_df['paragraph_text']\n",
    "        \n",
    "        cv_vecs = self.cv.transform(text).todense()\n",
    "        tfidf_vecs = self.tfidf.transform(text).todense()\n",
    "        d2v_vecs = self.d2v.transform(text.tolist())\n",
    "\n",
    "        prev_labels = data_df['prev label'].map(self.label_mapping).to_frame().values\n",
    "        \n",
    "        return np.hstack((cv_vecs, tfidf_vecs, d2v_vecs, prev_labels))"
   ]
  },
  {
   "cell_type": "markdown",
   "metadata": {},
   "source": [
    "# Replicate Previous Work"
   ]
  },
  {
   "cell_type": "code",
   "execution_count": 155,
   "metadata": {},
   "outputs": [],
   "source": [
    "pipe = Pipeline([\n",
    "    ('features', Features(min_df=1, max_df=1.0)),\n",
    "    ('svm', SVC(C=10, kernel=\"linear\", class_weight='balanced'))\n",
    "])"
   ]
  },
  {
   "cell_type": "code",
   "execution_count": 166,
   "metadata": {},
   "outputs": [],
   "source": [
    "finlayson_df = pd.read_csv('../data/finlayson_data.csv', index_col=0).rename(columns={'text':'paragraph_text'})\n",
    "finlayson_df['prev label'] = (\n",
    "    finlayson_df['label']\n",
    "     .pipe(lambda s: pd.concat([s.iloc[-1:], s.iloc[:-1]]))\n",
    "     .reset_index(drop=True)\n",
    ")\n",
    "\n",
    "for value in finlayson_df.groupby('doc_key').groups.values():\n",
    "    finlayson_df.at[value[0], 'prev label'] = 'NONE'"
   ]
  },
  {
   "cell_type": "code",
   "execution_count": 167,
   "metadata": {},
   "outputs": [
    {
     "data": {
      "text/html": [
       "<div>\n",
       "<style scoped>\n",
       "    .dataframe tbody tr th:only-of-type {\n",
       "        vertical-align: middle;\n",
       "    }\n",
       "\n",
       "    .dataframe tbody tr th {\n",
       "        vertical-align: top;\n",
       "    }\n",
       "\n",
       "    .dataframe thead th {\n",
       "        text-align: right;\n",
       "    }\n",
       "</style>\n",
       "<table border=\"1\" class=\"dataframe\">\n",
       "  <thead>\n",
       "    <tr style=\"text-align: right;\">\n",
       "      <th></th>\n",
       "      <th>doc_key</th>\n",
       "      <th>end</th>\n",
       "      <th>start</th>\n",
       "      <th>label</th>\n",
       "      <th>paragraph_text</th>\n",
       "      <th>prev label</th>\n",
       "    </tr>\n",
       "  </thead>\n",
       "  <tbody>\n",
       "    <tr>\n",
       "      <th>0</th>\n",
       "      <td>9801.35</td>\n",
       "      <td>433</td>\n",
       "      <td>194</td>\n",
       "      <td>LEAD</td>\n",
       "      <td>The Senate yesterday confirmed three federal j...</td>\n",
       "      <td>NONE</td>\n",
       "    </tr>\n",
       "    <tr>\n",
       "      <th>1</th>\n",
       "      <td>9801.35</td>\n",
       "      <td>616</td>\n",
       "      <td>433</td>\n",
       "      <td>CIRC</td>\n",
       "      <td>But the dispute over the Senate's pace in deal...</td>\n",
       "      <td>LEAD</td>\n",
       "    </tr>\n",
       "    <tr>\n",
       "      <th>2</th>\n",
       "      <td>9801.35</td>\n",
       "      <td>887</td>\n",
       "      <td>616</td>\n",
       "      <td>MAIN</td>\n",
       "      <td>By a vote of 67 to 30, the Senate confirmed An...</td>\n",
       "      <td>CIRC</td>\n",
       "    </tr>\n",
       "    <tr>\n",
       "      <th>3</th>\n",
       "      <td>9801.35</td>\n",
       "      <td>1116</td>\n",
       "      <td>887</td>\n",
       "      <td>VERB</td>\n",
       "      <td>Senate Judiciary Committee Chairman Orrin G. H...</td>\n",
       "      <td>MAIN</td>\n",
       "    </tr>\n",
       "    <tr>\n",
       "      <th>4</th>\n",
       "      <td>9801.35</td>\n",
       "      <td>1365</td>\n",
       "      <td>1116</td>\n",
       "      <td>MAIN</td>\n",
       "      <td>By voice vote, the Senate also confirmed Richa...</td>\n",
       "      <td>VERB</td>\n",
       "    </tr>\n",
       "  </tbody>\n",
       "</table>\n",
       "</div>"
      ],
      "text/plain": [
       "   doc_key   end  start label  \\\n",
       "0  9801.35   433    194  LEAD   \n",
       "1  9801.35   616    433  CIRC   \n",
       "2  9801.35   887    616  MAIN   \n",
       "3  9801.35  1116    887  VERB   \n",
       "4  9801.35  1365   1116  MAIN   \n",
       "\n",
       "                                      paragraph_text prev label  \n",
       "0  The Senate yesterday confirmed three federal j...       NONE  \n",
       "1  But the dispute over the Senate's pace in deal...       LEAD  \n",
       "2  By a vote of 67 to 30, the Senate confirmed An...       CIRC  \n",
       "3  Senate Judiciary Committee Chairman Orrin G. H...       MAIN  \n",
       "4  By voice vote, the Senate also confirmed Richa...       VERB  "
      ]
     },
     "execution_count": 167,
     "metadata": {},
     "output_type": "execute_result"
    }
   ],
   "source": [
    "finlayson_df.head()"
   ]
  },
  {
   "cell_type": "code",
   "execution_count": 187,
   "metadata": {},
   "outputs": [
    {
     "data": {
      "application/vnd.jupyter.widget-view+json": {
       "model_id": "a4f9084fbae74f16a93ed7bd428fe911",
       "version_major": 2,
       "version_minor": 0
      },
      "text/plain": [
       "HBox(children=(IntProgress(value=0, max=5), HTML(value='')))"
      ]
     },
     "metadata": {},
     "output_type": "display_data"
    },
    {
     "name": "stderr",
     "output_type": "stream",
     "text": [
      "C:\\ProgramData\\Anaconda3\\lib\\site-packages\\sklearn\\metrics\\classification.py:1437: UndefinedMetricWarning: F-score is ill-defined and being set to 0.0 in labels with no predicted samples.\n",
      "  'precision', 'predicted', average, warn_for)\n",
      "C:\\ProgramData\\Anaconda3\\lib\\site-packages\\sklearn\\metrics\\classification.py:1437: UndefinedMetricWarning: F-score is ill-defined and being set to 0.0 in labels with no predicted samples.\n",
      "  'precision', 'predicted', average, warn_for)\n",
      "C:\\ProgramData\\Anaconda3\\lib\\site-packages\\sklearn\\metrics\\classification.py:1439: UndefinedMetricWarning: F-score is ill-defined and being set to 0.0 in labels with no true samples.\n",
      "  'recall', 'true', average, warn_for)\n",
      "C:\\ProgramData\\Anaconda3\\lib\\site-packages\\sklearn\\metrics\\classification.py:1437: UndefinedMetricWarning: F-score is ill-defined and being set to 0.0 in labels with no predicted samples.\n",
      "  'precision', 'predicted', average, warn_for)\n"
     ]
    }
   ],
   "source": [
    "kfolds = 5\n",
    "kf = KFold(n_splits=kfolds)\n",
    "f1s_finlayson = []\n",
    "\n",
    "for train_index, test_index in tqdm(kf.split(finlayson_df), total=kfolds):\n",
    "    df_train, df_test = finlayson_df.loc[train_index], finlayson_df.loc[test_index]\n",
    "    pipe.fit(df_train, df_train['label'])\n",
    "    y_pred = pipe.predict(df_test)\n",
    "    f1s_finlayson.append({\n",
    "        'f1_macro': f1_score(df_test['label'], y_pred, average='macro'),\n",
    "        'f1_micro': f1_score(df_test['label'], y_pred, average='micro')\n",
    "    })"
   ]
  },
  {
   "cell_type": "code",
   "execution_count": 188,
   "metadata": {},
   "outputs": [
    {
     "data": {
      "text/plain": [
       "<matplotlib.axes._subplots.AxesSubplot at 0x19c08045da0>"
      ]
     },
     "execution_count": 188,
     "metadata": {},
     "output_type": "execute_result"
    },
    {
     "data": {
      "image/png": "[encoded data removed]",
      "text/plain": [
       "<Figure size 432x288 with 1 Axes>"
      ]
     },
     "metadata": {
      "needs_background": "light"
     },
     "output_type": "display_data"
    }
   ],
   "source": [
    "pd.DataFrame(f1s_finlayson).boxplot()"
   ]
  },
  {
   "cell_type": "markdown",
   "metadata": {},
   "source": [
    "# Add in New Work"
   ]
  },
  {
   "cell_type": "code",
   "execution_count": 191,
   "metadata": {},
   "outputs": [],
   "source": [
    "data_df = pd.read_csv('../data/combined_data_df.csv')"
   ]
  },
  {
   "cell_type": "code",
   "execution_count": 198,
   "metadata": {},
   "outputs": [],
   "source": [
    "data_df['prev label'] = (data_df['label']\n",
    " .pipe(lambda s: pd.concat([s.iloc[-1:], s.iloc[:-1]]))\n",
    " .reset_index(drop=True)\n",
    ")\n",
    "\n",
    "data_df['label'] = data_df['label'].fillna('VERB')\n",
    "for value in data_df.groupby('doc_key').groups.values():\n",
    "    data_df.at[value[0], 'prev label'] = 'NONE'"
   ]
  },
  {
   "cell_type": "code",
   "execution_count": 193,
   "metadata": {},
   "outputs": [
    {
     "data": {
      "text/html": [
       "<div>\n",
       "<style scoped>\n",
       "    .dataframe tbody tr th:only-of-type {\n",
       "        vertical-align: middle;\n",
       "    }\n",
       "\n",
       "    .dataframe tbody tr th {\n",
       "        vertical-align: top;\n",
       "    }\n",
       "\n",
       "    .dataframe thead th {\n",
       "        text-align: right;\n",
       "    }\n",
       "</style>\n",
       "<table border=\"1\" class=\"dataframe\">\n",
       "  <thead>\n",
       "    <tr style=\"text-align: right;\">\n",
       "      <th></th>\n",
       "      <th>doc_key</th>\n",
       "      <th>paragraph_text</th>\n",
       "      <th>start</th>\n",
       "      <th>end</th>\n",
       "      <th>label</th>\n",
       "      <th>corpus</th>\n",
       "      <th>prev label</th>\n",
       "    </tr>\n",
       "  </thead>\n",
       "  <tbody>\n",
       "    <tr>\n",
       "      <th>0</th>\n",
       "      <td>9801.35</td>\n",
       "      <td>The Senate yesterday confirmed three federal j...</td>\n",
       "      <td>194</td>\n",
       "      <td>433</td>\n",
       "      <td>LEAD</td>\n",
       "      <td>finlayson</td>\n",
       "      <td>NONE</td>\n",
       "    </tr>\n",
       "    <tr>\n",
       "      <th>1</th>\n",
       "      <td>9801.35</td>\n",
       "      <td>But the dispute over the Senate's pace in deal...</td>\n",
       "      <td>433</td>\n",
       "      <td>616</td>\n",
       "      <td>CIRC</td>\n",
       "      <td>finlayson</td>\n",
       "      <td>LEAD</td>\n",
       "    </tr>\n",
       "    <tr>\n",
       "      <th>2</th>\n",
       "      <td>9801.35</td>\n",
       "      <td>By a vote of 67 to 30, the Senate confirmed An...</td>\n",
       "      <td>616</td>\n",
       "      <td>887</td>\n",
       "      <td>MAIN</td>\n",
       "      <td>finlayson</td>\n",
       "      <td>CIRC</td>\n",
       "    </tr>\n",
       "    <tr>\n",
       "      <th>3</th>\n",
       "      <td>9801.35</td>\n",
       "      <td>Senate Judiciary Committee Chairman Orrin G. H...</td>\n",
       "      <td>887</td>\n",
       "      <td>1116</td>\n",
       "      <td>VERB</td>\n",
       "      <td>finlayson</td>\n",
       "      <td>MAIN</td>\n",
       "    </tr>\n",
       "    <tr>\n",
       "      <th>4</th>\n",
       "      <td>9801.35</td>\n",
       "      <td>By voice vote, the Senate also confirmed Richa...</td>\n",
       "      <td>1116</td>\n",
       "      <td>1365</td>\n",
       "      <td>MAIN</td>\n",
       "      <td>finlayson</td>\n",
       "      <td>VERB</td>\n",
       "    </tr>\n",
       "  </tbody>\n",
       "</table>\n",
       "</div>"
      ],
      "text/plain": [
       "   doc_key                                     paragraph_text  start   end  \\\n",
       "0  9801.35  The Senate yesterday confirmed three federal j...    194   433   \n",
       "1  9801.35  But the dispute over the Senate's pace in deal...    433   616   \n",
       "2  9801.35  By a vote of 67 to 30, the Senate confirmed An...    616   887   \n",
       "3  9801.35  Senate Judiciary Committee Chairman Orrin G. H...    887  1116   \n",
       "4  9801.35  By voice vote, the Senate also confirmed Richa...   1116  1365   \n",
       "\n",
       "  label     corpus prev label  \n",
       "0  LEAD  finlayson       NONE  \n",
       "1  CIRC  finlayson       LEAD  \n",
       "2  MAIN  finlayson       CIRC  \n",
       "3  VERB  finlayson       MAIN  \n",
       "4  MAIN  finlayson       VERB  "
      ]
     },
     "execution_count": 193,
     "metadata": {},
     "output_type": "execute_result"
    }
   ],
   "source": [
    "data_df.head()"
   ]
  },
  {
   "cell_type": "code",
   "execution_count": 323,
   "metadata": {},
   "outputs": [],
   "source": [
    "pipe = Pipeline([\n",
    "    ('features', Features(min_df=1, max_df=1.0)), \n",
    "    ('svm', SVC(C=10, kernel='linear', class_weight='balanced'))\n",
    "])"
   ]
  },
  {
   "cell_type": "code",
   "execution_count": 324,
   "metadata": {},
   "outputs": [
    {
     "data": {
      "application/vnd.jupyter.widget-view+json": {
       "model_id": "e0f73c29dd8b460f88d6aa2d3812b67f",
       "version_major": 2,
       "version_minor": 0
      },
      "text/plain": [
       "HBox(children=(IntProgress(value=0, max=5), HTML(value='')))"
      ]
     },
     "metadata": {},
     "output_type": "display_data"
    },
    {
     "name": "stderr",
     "output_type": "stream",
     "text": [
      "C:\\ProgramData\\Anaconda3\\lib\\site-packages\\sklearn\\metrics\\classification.py:1439: UndefinedMetricWarning: F-score is ill-defined and being set to 0.0 in labels with no true samples.\n",
      "  'recall', 'true', average, warn_for)\n",
      "C:\\ProgramData\\Anaconda3\\lib\\site-packages\\sklearn\\metrics\\classification.py:1437: UndefinedMetricWarning: F-score is ill-defined and being set to 0.0 in labels with no predicted samples.\n",
      "  'precision', 'predicted', average, warn_for)\n"
     ]
    }
   ],
   "source": [
    "kfolds = 5\n",
    "kf = KFold(n_splits=kfolds)\n",
    "f1s = []\n",
    "\n",
    "for train_index, test_index in tqdm(kf.split(data_df), total=kfolds):\n",
    "    df_train, df_test = data_df.loc[train_index], data_df.loc[test_index]\n",
    "    pipe.fit(df_train, df_train['label'])\n",
    "    y_pred = pipe.predict(df_test)\n",
    "    f1s.append({\n",
    "        'f1_macro': f1_score(df_test['label'], y_pred, average='macro'),\n",
    "        'f1_micro': f1_score(df_test['label'], y_pred, average='micro')\n",
    "    })"
   ]
  },
  {
   "cell_type": "code",
   "execution_count": 190,
   "metadata": {},
   "outputs": [
    {
     "data": {
      "text/plain": [
       "<matplotlib.axes._subplots.AxesSubplot at 0x19c085051d0>"
      ]
     },
     "execution_count": 190,
     "metadata": {},
     "output_type": "execute_result"
    },
    {
     "data": {
      "image/png": "[encoded data removed]",
      "text/plain": [
       "<Figure size 432x288 with 1 Axes>"
      ]
     },
     "metadata": {
      "needs_background": "light"
     },
     "output_type": "display_data"
    }
   ],
   "source": [
    "pd.DataFrame(f1s).boxplot()"
   ]
  },
  {
   "cell_type": "code",
   "execution_count": 325,
   "metadata": {},
   "outputs": [
    {
     "data": {
      "text/plain": [
       "<matplotlib.axes._subplots.AxesSubplot at 0x19c095977f0>"
      ]
     },
     "execution_count": 325,
     "metadata": {},
     "output_type": "execute_result"
    },
    {
     "data": {
      "image/png": "[encoded data removed]",
      "text/plain": [
       "<Figure size 432x288 with 1 Axes>"
      ]
     },
     "metadata": {
      "needs_background": "light"
     },
     "output_type": "display_data"
    }
   ],
   "source": [
    "pd.DataFrame(f1s).boxplot()"
   ]
  },
  {
   "cell_type": "code",
   "execution_count": null,
   "metadata": {},
   "outputs": [],
   "source": []
  },
  {
   "cell_type": "code",
   "execution_count": null,
   "metadata": {},
   "outputs": [],
   "source": []
  },
  {
   "cell_type": "code",
   "execution_count": null,
   "metadata": {},
   "outputs": [],
   "source": []
  }
 ],
 "metadata": {
  "hide_input": false,
  "kernelspec": {
   "display_name": "Python 3",
   "language": "python",
   "name": "python3"
  },
  "language_info": {
   "codemirror_mode": {
    "name": "ipython",
    "version": 3
   },
   "file_extension": ".py",
   "mimetype": "text/x-python",
   "name": "python",
   "nbconvert_exporter": "python",
   "pygments_lexer": "ipython3",
   "version": "3.7.3"
  },
  "latex_envs": {
   "LaTeX_envs_menu_present": true,
   "autoclose": false,
   "autocomplete": true,
   "bibliofile": "biblio.bib",
   "cite_by": "apalike",
   "current_citInitial": 1,
   "eqLabelWithNumbers": true,
   "eqNumInitial": 1,
   "hotkeys": {
    "equation": "Ctrl-E",
    "itemize": "Ctrl-I"
   },
   "labels_anchors": false,
   "latex_user_defs": false,
   "report_style_numbering": false,
   "user_envs_cfg": false
  }
 },
 "nbformat": 4,
 "nbformat_minor": 2
}
