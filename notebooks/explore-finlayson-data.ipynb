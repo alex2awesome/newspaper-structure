{
 "cells": [
  {
   "cell_type": "code",
   "execution_count": 1,
   "metadata": {},
   "outputs": [],
   "source": [
    "import glob\n",
    "import os\n",
    "import re\n",
    "import json\n",
    "import pandas as pd\n",
    "\n",
    "### maps\n",
    "## key to meaning map\n",
    "full_map = {\n",
    "    'LEAD': 'Lead',\n",
    "    'MAIN': 'Main Events ',\n",
    "    'CONS': 'Consequences',\n",
    "    'CIRC': 'Circumstances',\n",
    "    'PREV': 'Previous Events',\n",
    "    'HIST': 'History',\n",
    "    'VERB': 'Verbal Reactions',\n",
    "    'EXPE': 'Expectations',\n",
    "    'EVAL': 'Evaluations',\n",
    "}\n",
    "\n",
    "## key to first-level map\n",
    "dtype_map_1 = {\n",
    "    \"LEAD\": \"LEAD\",\n",
    "    \"MAIN\": \"EPISODE\",\n",
    "    \"CONS\": \"EPISODE\",\n",
    "    \"CIRC\": \"CONTEXT\",\n",
    "    \"PREV\": \"CONTEXT\",\n",
    "    \"HIST\": \"BACKGROUND\",\n",
    "    \"VERB\": \"COMMENTS\",\n",
    "    \"EXPE\": \"CONCLUSIONS\",\n",
    "    \"EVAL\": \"CONCLUSIONS\"\n",
    "}\n",
    "\n",
    "## key to second-level map\n",
    "dtype_map_2 = {\n",
    "    \"LEAD\": \"LEAD\",\n",
    "    \"MAIN\": \"EPISODE\",\n",
    "    \"CONS\": \"EPISODE\",\n",
    "    \"CIRC\": \"BACKGROUND\",\n",
    "    \"PREV\": \"BACKGROUND\",\n",
    "    \"HIST\": \"BACKGROUND\",\n",
    "    \"VERB\": \"COMMENTS\",\n",
    "    \"EXPE\": \"COMMENTS\",\n",
    "    \"EVAL\": \"COMMENTS\"\n",
    "}\n",
    "\n",
    "## key to third-level map\n",
    "dtype_map_3 = {\n",
    "    \"LEAD\": \"LEAD\",\n",
    "    \"MAIN\": \"SITUATION\",\n",
    "    \"CONS\": \"SITUATION\",\n",
    "    \"CIRC\": \"SITUATION\",\n",
    "    \"PREV\": \"SITUATION\",\n",
    "    \"HIST\": \"SITUATION\",\n",
    "    \"VERB\": \"COMMENTS\",\n",
    "    \"EXPE\": \"COMMENTS\",\n",
    "    \"EVAL\": \"COMMENTS\"\n",
    "}"
   ]
  },
  {
   "cell_type": "code",
   "execution_count": 2,
   "metadata": {},
   "outputs": [],
   "source": [
    "def clean_text(text):\n",
    "    return re.sub(\"<.*?>\", \"\", text)\n",
    "\n",
    "def get_data(path):\n",
    "    source_files = glob.glob(path + \"/*/*.sgm\")\n",
    "    data = {}\n",
    "    for source in source_files:\n",
    "        docID = os.path.splitext(os.path.basename(source))[0]\n",
    "        with open(source) as f:\n",
    "            data[docID] = clean_text(\"\".join(f.readlines()))\n",
    "    return data"
   ]
  },
  {
   "cell_type": "markdown",
   "metadata": {},
   "source": [
    "## Get data"
   ]
  },
  {
   "cell_type": "code",
   "execution_count": 54,
   "metadata": {},
   "outputs": [],
   "source": [
    "text_input_data = get_data('../data/XML')\n",
    "annotations = json.load(open('../data/finlayson_anno_offsets_new.json'))\n",
    "\n",
    "## flatten annotations\n",
    "flat_items = []\n",
    "for doc_id, doc_annotations in annotations.items():\n",
    "    for annotation in doc_annotations:\n",
    "        datum = {'doc_key': doc_id}\n",
    "        datum.update(annotation)\n",
    "        flat_items.append(datum)\n",
    "\n",
    "finlayson_annotation_df = pd.DataFrame(flat_items)\n",
    "\n",
    "## map text\n",
    "finlayson_annotation_df['text'] = (finlayson_annotation_df\n",
    " .apply(lambda x: text_input_data[x['doc_key']][x['start']: x['end']], axis=1)\n",
    " .str.strip()\n",
    ")"
   ]
  },
  {
   "cell_type": "code",
   "execution_count": 55,
   "metadata": {},
   "outputs": [
    {
     "data": {
      "text/plain": [
       "\"Yesterday's action reduces the list of judicial vacancies to 85, or about 10 \\npercent of the federal judiciary. The Senate confirmed 17 judges in 1996 and 36 \\njudges last year, drawing accusations of foot-dragging from Democrats. Hatch and \\nothers said Clinton was mostly to blame because he was slow to make nominations.\""
      ]
     },
     "execution_count": 55,
     "metadata": {},
     "output_type": "execute_result"
    }
   ],
   "source": [
    "finlayson_annotation_df.loc[5]['text']"
   ]
  },
  {
   "cell_type": "markdown",
   "metadata": {},
   "source": [
    "#### next steps:\n",
    "\n",
    "* Reproduce the features they use\n",
    "* Incorporate paragraph index feature\n",
    "* Incorporate paragaph n-1 label\n",
    "* Use word-vectors?\n",
    "* Use CRF? "
   ]
  },
  {
   "cell_type": "code",
   "execution_count": 7,
   "metadata": {},
   "outputs": [
    {
     "data": {
      "text/plain": [
       "'Senate Judiciary Committee Chairman Orrin G. Hatch (R-Utah) said that while \\nAiken would not have been his choice, she \"demonstrated to me that she \\nunderstands the proper role of a federal judge in our constitutional system.\"'"
      ]
     },
     "execution_count": 7,
     "metadata": {},
     "output_type": "execute_result"
    }
   ],
   "source": [
    "finlayson_annotation_df['text'][3]"
   ]
  },
  {
   "cell_type": "code",
   "execution_count": 8,
   "metadata": {
    "scrolled": true
   },
   "outputs": [
    {
     "data": {
      "text/html": [
       "<div>\n",
       "<style scoped>\n",
       "    .dataframe tbody tr th:only-of-type {\n",
       "        vertical-align: middle;\n",
       "    }\n",
       "\n",
       "    .dataframe tbody tr th {\n",
       "        vertical-align: top;\n",
       "    }\n",
       "\n",
       "    .dataframe thead th {\n",
       "        text-align: right;\n",
       "    }\n",
       "</style>\n",
       "<table border=\"1\" class=\"dataframe\">\n",
       "  <thead>\n",
       "    <tr style=\"text-align: right;\">\n",
       "      <th></th>\n",
       "      <th>doc_key</th>\n",
       "      <th>end</th>\n",
       "      <th>start</th>\n",
       "      <th>type</th>\n",
       "      <th>text</th>\n",
       "    </tr>\n",
       "  </thead>\n",
       "  <tbody>\n",
       "    <tr>\n",
       "      <th>616</th>\n",
       "      <td>APW19980213.1320</td>\n",
       "      <td>413</td>\n",
       "      <td>229</td>\n",
       "      <td>LEAD</td>\n",
       "      <td>CANBERRA, Australia (AP) _ Qantas will almost ...</td>\n",
       "    </tr>\n",
       "    <tr>\n",
       "      <th>617</th>\n",
       "      <td>APW19980213.1320</td>\n",
       "      <td>582</td>\n",
       "      <td>413</td>\n",
       "      <td>PREV</td>\n",
       "      <td>This move comes barely a month after Qantas su...</td>\n",
       "    </tr>\n",
       "    <tr>\n",
       "      <th>618</th>\n",
       "      <td>APW19980213.1320</td>\n",
       "      <td>635</td>\n",
       "      <td>582</td>\n",
       "      <td>CIRC</td>\n",
       "      <td>The airline has also cut all flights to South ...</td>\n",
       "    </tr>\n",
       "    <tr>\n",
       "      <th>619</th>\n",
       "      <td>APW19980213.1320</td>\n",
       "      <td>807</td>\n",
       "      <td>635</td>\n",
       "      <td>MAIN</td>\n",
       "      <td>Qantas plans daily flights between Sydney and ...</td>\n",
       "    </tr>\n",
       "    <tr>\n",
       "      <th>620</th>\n",
       "      <td>APW19980213.1320</td>\n",
       "      <td>1007</td>\n",
       "      <td>807</td>\n",
       "      <td>VERB</td>\n",
       "      <td>In a joint statement with Tourism Minister And...</td>\n",
       "    </tr>\n",
       "    <tr>\n",
       "      <th>621</th>\n",
       "      <td>APW19980213.1320</td>\n",
       "      <td>1059</td>\n",
       "      <td>1007</td>\n",
       "      <td>CONS</td>\n",
       "      <td>This will add nearly 700 seats a week on the r...</td>\n",
       "    </tr>\n",
       "    <tr>\n",
       "      <th>622</th>\n",
       "      <td>APW19980213.1320</td>\n",
       "      <td>1181</td>\n",
       "      <td>1059</td>\n",
       "      <td>VERB</td>\n",
       "      <td>Thomson, in India to talk to tourism leaders, ...</td>\n",
       "    </tr>\n",
       "    <tr>\n",
       "      <th>623</th>\n",
       "      <td>APW19980213.1320</td>\n",
       "      <td>1357</td>\n",
       "      <td>1181</td>\n",
       "      <td>VERB</td>\n",
       "      <td>Qantas' India manager Khursheed Lam said the a...</td>\n",
       "    </tr>\n",
       "    <tr>\n",
       "      <th>624</th>\n",
       "      <td>APW19980213.1320</td>\n",
       "      <td>1427</td>\n",
       "      <td>1357</td>\n",
       "      <td>CIRC</td>\n",
       "      <td>Qantas will also appoint a Bombay-based public...</td>\n",
       "    </tr>\n",
       "  </tbody>\n",
       "</table>\n",
       "</div>"
      ],
      "text/plain": [
       "              doc_key   end  start  type  \\\n",
       "616  APW19980213.1320   413    229  LEAD   \n",
       "617  APW19980213.1320   582    413  PREV   \n",
       "618  APW19980213.1320   635    582  CIRC   \n",
       "619  APW19980213.1320   807    635  MAIN   \n",
       "620  APW19980213.1320  1007    807  VERB   \n",
       "621  APW19980213.1320  1059   1007  CONS   \n",
       "622  APW19980213.1320  1181   1059  VERB   \n",
       "623  APW19980213.1320  1357   1181  VERB   \n",
       "624  APW19980213.1320  1427   1357  CIRC   \n",
       "\n",
       "                                                  text  \n",
       "616  CANBERRA, Australia (AP) _ Qantas will almost ...  \n",
       "617  This move comes barely a month after Qantas su...  \n",
       "618  The airline has also cut all flights to South ...  \n",
       "619  Qantas plans daily flights between Sydney and ...  \n",
       "620  In a joint statement with Tourism Minister And...  \n",
       "621  This will add nearly 700 seats a week on the r...  \n",
       "622  Thomson, in India to talk to tourism leaders, ...  \n",
       "623  Qantas' India manager Khursheed Lam said the a...  \n",
       "624  Qantas will also appoint a Bombay-based public...  "
      ]
     },
     "execution_count": 8,
     "metadata": {},
     "output_type": "execute_result"
    }
   ],
   "source": [
    "finlayson_annotation_df.loc[lambda df: df['doc_key']=='APW19980213.1320']"
   ]
  },
  {
   "cell_type": "code",
   "execution_count": 58,
   "metadata": {},
   "outputs": [],
   "source": [
    "finlayson_annotation_df.rename(columns={'type':'label'}).to_csv('../data/finlayson_data.csv')"
   ]
  },
  {
   "cell_type": "markdown",
   "metadata": {},
   "source": [
    "# New Data"
   ]
  },
  {
   "cell_type": "code",
   "execution_count": 9,
   "metadata": {},
   "outputs": [],
   "source": [
    "ace_train = (\n",
    " glob.glob('../data/ace_phase2/data/ace2_train/npaper/*.sgm') + \n",
    " glob.glob('../data/ace_phase2/data/ace2_train/nwire/*.sgm')\n",
    ")"
   ]
  },
  {
   "cell_type": "code",
   "execution_count": 10,
   "metadata": {},
   "outputs": [],
   "source": [
    "# ace_train = glob.glob('../data/ace_phase2/data/ace2_train/*/*.sgm')\n",
    "ace_test = glob.glob('../data/ace_phase2/data/ace2_devtest/*/*.sgm')"
   ]
  },
  {
   "cell_type": "code",
   "execution_count": 11,
   "metadata": {
    "scrolled": true
   },
   "outputs": [],
   "source": [
    "ace_training_keys = pd.Series(ace_train).to_frame('path')\n",
    "ace_training_keys['doc_key'] = ace_training_keys['path'].apply(os.path.basename)\n",
    "ace_training_keys['tagged'] = ace_training_keys['doc_key'].isin(finlayson_annotation_df['doc_key'].pipe(lambda s: s + '.sgm'))"
   ]
  },
  {
   "cell_type": "code",
   "execution_count": 12,
   "metadata": {},
   "outputs": [
    {
     "data": {
      "text/plain": [
       "False    156\n",
       "True      50\n",
       "Name: tagged, dtype: int64"
      ]
     },
     "execution_count": 12,
     "metadata": {},
     "output_type": "execute_result"
    }
   ],
   "source": [
    "ace_training_keys['tagged'].value_counts()"
   ]
  },
  {
   "cell_type": "code",
   "execution_count": 13,
   "metadata": {},
   "outputs": [],
   "source": [
    "ace_training_keys['full_text'] = (ace_training_keys\n",
    "                                  .apply(lambda x: open(x['path']).read(), axis=1)\n",
    "                                  .apply(clean_text)\n",
    "                                 )"
   ]
  },
  {
   "cell_type": "code",
   "execution_count": 14,
   "metadata": {},
   "outputs": [],
   "source": [
    "with open('../app/data/pretagged_records.json', 'w') as f:\n",
    "    t = ace_training_keys.loc[lambda df: df['tagged'] == True][['doc_key', 'full_text']]\n",
    "    t2 = t.to_dict(orient='records')\n",
    "    json.dump(t2, f)"
   ]
  },
  {
   "cell_type": "code",
   "execution_count": 15,
   "metadata": {},
   "outputs": [],
   "source": [
    "with open('../app/data/untagged_records.json', 'w') as f:\n",
    "    t = ace_training_keys.loc[lambda df: df['tagged'] == False][['doc_key', 'full_text']]\n",
    "    t2 = t.to_dict(orient='records')\n",
    "    json.dump(t2, f)"
   ]
  },
  {
   "cell_type": "markdown",
   "metadata": {},
   "source": [
    "# Validate tags, get IAA"
   ]
  },
  {
   "cell_type": "code",
   "execution_count": 27,
   "metadata": {},
   "outputs": [],
   "source": [
    "import jellyfish\n",
    "import numpy as np\n",
    "from sklearn.metrics import f1_score"
   ]
  },
  {
   "cell_type": "code",
   "execution_count": 25,
   "metadata": {},
   "outputs": [],
   "source": [
    "pretagged_files = glob.glob('../app/data/pretagged_output/*')"
   ]
  },
  {
   "cell_type": "code",
   "execution_count": 26,
   "metadata": {},
   "outputs": [],
   "source": [
    "pretagged_files_df = pd.DataFrame()\n",
    "for tagged_file in pretagged_files:\n",
    "    with open(tagged_file) as f:\n",
    "        tagged_json = json.load(f)\n",
    "        for key, datum in tagged_json.items():\n",
    "            tagged_df = pd.DataFrame(datum)\n",
    "            pretagged_files_df = pd.concat([pretagged_files_df, tagged_df])\n",
    "\n",
    "input_data = json.load(open('../app/data/pretagged_records.json'))\n",
    "pretagged_files_df = pretagged_files_df.loc[lambda df: df['question_class'] == 'label']\n",
    "pretagged_files_df = pretagged_files_df.merge(pd.DataFrame(input_data), how='left', left_on='doc_key', right_on='doc_key')\n",
    "pretagged_files_df = (pretagged_files_df\n",
    " .assign(full_text=lambda df: df['full_text'].str.replace(' \\n', '\\n'))\n",
    " .assign(start=lambda df: df.apply(lambda x: x['full_text'].index(x['paragraph_text']), axis=1))\n",
    " .assign(end=lambda df: df['start'] + df['paragraph_text'].str.len())\n",
    " .assign(doc_key=lambda df: df['doc_key'].str.replace('.sgm', ''))\n",
    ")"
   ]
  },
  {
   "cell_type": "code",
   "execution_count": 28,
   "metadata": {},
   "outputs": [],
   "source": [
    "pretagged_files_df['finlayson_mapping'] = np.nan"
   ]
  },
  {
   "cell_type": "code",
   "execution_count": 29,
   "metadata": {},
   "outputs": [],
   "source": [
    "for key in pretagged_files_df['doc_key'].unique():\n",
    "    for idx1, text1 in pretagged_files_df.loc[lambda df: df['doc_key'] == key]['paragraph_text'].iteritems():\n",
    "        max_jaro = 0\n",
    "        max_idx2 = -1\n",
    "        for idx2, text2 in finlayson_annotation_df.loc[lambda df: df['doc_key'] == key]['text'].iteritems():\n",
    "            jaro = jellyfish.jaro_distance(text1, text2)\n",
    "            if jaro > max_jaro:\n",
    "                max_jaro = jaro\n",
    "                max_idx2 = idx2\n",
    "\n",
    "        pretagged_files_df.at[idx1, 'finlayson_mapping'] = max_idx2"
   ]
  },
  {
   "cell_type": "code",
   "execution_count": 30,
   "metadata": {},
   "outputs": [],
   "source": [
    "both = pretagged_files_df.merge(finlayson_annotation_df, how='left', right_index=True, left_on='finlayson_mapping')"
   ]
  },
  {
   "cell_type": "code",
   "execution_count": 31,
   "metadata": {},
   "outputs": [
    {
     "data": {
      "text/plain": [
       "0.5963855421686747"
      ]
     },
     "execution_count": 31,
     "metadata": {},
     "output_type": "execute_result"
    }
   ],
   "source": [
    "both.pipe(lambda df: df['label'] == df['type']).mean()"
   ]
  },
  {
   "cell_type": "code",
   "execution_count": null,
   "metadata": {},
   "outputs": [],
   "source": [
    "both.pipe(lambda df: df['my_updated_labels'] == df['type']).mean()"
   ]
  },
  {
   "cell_type": "code",
   "execution_count": null,
   "metadata": {},
   "outputs": [],
   "source": [
    "both.pipe(lambda df: f1_score(df['my_updated_labels'], df['type'], average='macro'))"
   ]
  },
  {
   "cell_type": "code",
   "execution_count": 532,
   "metadata": {},
   "outputs": [],
   "source": [
    "from sklearn.metrics import confusion_matrix\n",
    "import seaborn as sns"
   ]
  },
  {
   "cell_type": "code",
   "execution_count": 533,
   "metadata": {},
   "outputs": [],
   "source": [
    "labels = ['LEAD', 'MAIN', 'CONS', 'CIRC', 'PREV', 'HIST', 'VERB', 'EXPE', 'EVAL']"
   ]
  },
  {
   "cell_type": "code",
   "execution_count": 363,
   "metadata": {},
   "outputs": [],
   "source": [
    "import matplotlib.pyplot as plt\n",
    "plt.rc('font', size=14)"
   ]
  },
  {
   "cell_type": "code",
   "execution_count": 535,
   "metadata": {},
   "outputs": [
    {
     "data": {
      "text/plain": [
       "Text(0.5, 11.0, 'Your Labels')"
      ]
     },
     "execution_count": 535,
     "metadata": {},
     "output_type": "execute_result"
    },
    {
     "data": {
      "image/png": "[encoded data removed]",
      "text/plain": [
       "<Figure size 432x288 with 2 Axes>"
      ]
     },
     "metadata": {
      "needs_background": "light"
     },
     "output_type": "display_data"
    }
   ],
   "source": [
    "c_mat = confusion_matrix(both['label'], both['type'], labels=labels)\n",
    "sns.heatmap(pd.DataFrame(c_mat, index=labels, columns=labels).pipe(lambda df: df.divide(df.sum(axis=1), axis=0)))\n",
    "plt.ylabel('My Initial Labels')\n",
    "plt.xlabel('Your Labels')"
   ]
  },
  {
   "cell_type": "code",
   "execution_count": 617,
   "metadata": {},
   "outputs": [
    {
     "data": {
      "text/plain": [
       "Text(0.5, 11.0, 'Your Labels')"
      ]
     },
     "execution_count": 617,
     "metadata": {},
     "output_type": "execute_result"
    },
    {
     "data": {
      "image/png": "[encoded data removed]",
      "text/plain": [
       "<Figure size 432x288 with 2 Axes>"
      ]
     },
     "metadata": {
      "needs_background": "light"
     },
     "output_type": "display_data"
    }
   ],
   "source": [
    "c_mat = confusion_matrix(both['my_updated_labels'], both['type'], labels=labels)\n",
    "sns.heatmap(pd.DataFrame(c_mat, index=labels, columns=labels).pipe(lambda df: df.divide(df.sum(axis=1), axis=0)))\n",
    "plt.ylabel('My Labels')\n",
    "plt.xlabel('Your Labels')"
   ]
  },
  {
   "cell_type": "code",
   "execution_count": 528,
   "metadata": {},
   "outputs": [
    {
     "data": {
      "text/plain": [
       "(28, 14)"
      ]
     },
     "execution_count": 528,
     "metadata": {},
     "output_type": "execute_result"
    }
   ],
   "source": [
    "both.loc[lambda df: df['my_updated_labels'] != df['type']].shape"
   ]
  },
  {
   "cell_type": "code",
   "execution_count": 377,
   "metadata": {},
   "outputs": [],
   "source": [
    "# both['my_updated_labels'] = both['label']"
   ]
  },
  {
   "cell_type": "code",
   "execution_count": 527,
   "metadata": {},
   "outputs": [],
   "source": [
    "to_check = both.loc[lambda df: df['label'] != df['type']]"
   ]
  },
  {
   "cell_type": "code",
   "execution_count": 526,
   "metadata": {},
   "outputs": [
    {
     "data": {
      "text/plain": [
       "{'label': 'CONS',\n",
       " 'type': 'MAIN',\n",
       " 'paragraph_text': 'Annan, a Ghanaian facing by far the greatest diplomatic challenge of his 13\\nmonths as secretary general, is due in Baghdad on Friday after a stop in Paris.\\nHe said he will stay in Iraq for no more than two days before returning to brief\\nthe Security Council.'}"
      ]
     },
     "execution_count": 526,
     "metadata": {},
     "output_type": "execute_result"
    }
   ],
   "source": [
    "k = 66\n",
    "t = to_check.iloc[k]\n",
    "idx = t.name\n",
    "t[['label', 'type', 'paragraph_text']].to_dict()"
   ]
  },
  {
   "cell_type": "code",
   "execution_count": null,
   "metadata": {},
   "outputs": [],
   "source": [
    "print(t['full_text'][:1000])"
   ]
  },
  {
   "cell_type": "code",
   "execution_count": 524,
   "metadata": {},
   "outputs": [],
   "source": [
    "both.at[idx, 'my_updated_labels'] = t['type']"
   ]
  },
  {
   "cell_type": "code",
   "execution_count": 428,
   "metadata": {},
   "outputs": [
    {
     "data": {
      "text/plain": [
       "'CIRC'"
      ]
     },
     "execution_count": 428,
     "metadata": {},
     "output_type": "execute_result"
    }
   ],
   "source": [
    "both.at[idx, 'my_updated_labels']"
   ]
  },
  {
   "cell_type": "code",
   "execution_count": null,
   "metadata": {},
   "outputs": [],
   "source": [
    "os.listdir('../data')"
   ]
  },
  {
   "cell_type": "code",
   "execution_count": null,
   "metadata": {},
   "outputs": [],
   "source": [
    "both_final = (both.rename(columns={'label': 'my_first_labels', 'type': 'finlayson_labels'})\n",
    " [['doc_key_x', 'paragraph_text', 'start_x', 'end_x', 'my_first_labels', 'my_updated_labels', 'finlayson_labels']]\n",
    " .rename(columns=lambda x: x.replace('_x', ''))\n",
    ")\n",
    "\n",
    "both_final.to_csv('../data/my_checked_annotations.csv')"
   ]
  },
  {
   "cell_type": "markdown",
   "metadata": {},
   "source": [
    "# Put it all together"
   ]
  },
  {
   "cell_type": "code",
   "execution_count": 59,
   "metadata": {},
   "outputs": [],
   "source": [
    "both_final = pd.read_csv('../data/my_checked_annotations.csv', index_col=0)"
   ]
  },
  {
   "cell_type": "code",
   "execution_count": 60,
   "metadata": {},
   "outputs": [],
   "source": [
    "other_labels = []"
   ]
  },
  {
   "cell_type": "code",
   "execution_count": 61,
   "metadata": {},
   "outputs": [],
   "source": [
    "for article in glob.glob('../app/data/untagged_output/*'):\n",
    "    with open(article) as f:\n",
    "        for key, value in json.load(f).items():\n",
    "            other_labels.extend(value)"
   ]
  },
  {
   "cell_type": "code",
   "execution_count": 62,
   "metadata": {},
   "outputs": [],
   "source": [
    "new_data_df = pd.DataFrame(other_labels).loc[lambda df: df['question_class'] == 'label'].drop('question_class', axis=1)"
   ]
  },
  {
   "cell_type": "code",
   "execution_count": 63,
   "metadata": {},
   "outputs": [],
   "source": [
    "input_data = json.load(open('../app/data/untagged_records.json'))\n",
    "new_data_df = new_data_df.merge(pd.DataFrame(input_data), how='left', left_on='doc_key', right_on='doc_key')\n",
    "new_data_df = (new_data_df\n",
    " .assign(full_text=lambda df: df['full_text'].str.replace(' \\n', '\\n'))\n",
    " .assign(start=lambda df: df.apply(lambda x: x['full_text'].index(x['paragraph_text']), axis=1))\n",
    " .assign(end=lambda df: df['start'] + df['paragraph_text'].str.len())\n",
    " .assign(doc_key=lambda df: df['doc_key'].str.replace('.sgm', ''))\n",
    " .drop('full_text', axis=1)\n",
    ")"
   ]
  },
  {
   "cell_type": "code",
   "execution_count": 65,
   "metadata": {},
   "outputs": [
    {
     "data": {
      "text/plain": [
       "VERB    0.288833\n",
       "CIRC    0.186398\n",
       "MAIN    0.170445\n",
       "CONS    0.103275\n",
       "EVAL    0.079765\n",
       "PREV    0.051217\n",
       "HIST    0.047859\n",
       "LEAD    0.032746\n",
       "EXPE    0.031906\n",
       "EXPL    0.004198\n",
       "SECD    0.003359\n",
       "Name: label, dtype: float64"
      ]
     },
     "execution_count": 65,
     "metadata": {},
     "output_type": "execute_result"
    }
   ],
   "source": [
    "new_data_df['label'].value_counts().pipe(lambda s: s/s.sum())"
   ]
  },
  {
   "cell_type": "code",
   "execution_count": 43,
   "metadata": {},
   "outputs": [],
   "source": [
    "import pyperclip\n",
    "pyperclip.copy(finlayson_annotation_df['type'].value_counts().pipe(lambda s: s/s.sum()).rename(full_map).round(2).to_latex())"
   ]
  },
  {
   "cell_type": "code",
   "execution_count": 68,
   "metadata": {
    "scrolled": true
   },
   "outputs": [],
   "source": [
    "data_df = pd.concat([\n",
    "    finlayson_annotation_df\n",
    "             .rename(columns={'text': 'paragraph_text', 'type': 'label'})\n",
    "             [['doc_key', 'paragraph_text', 'start', 'end', 'label']]\n",
    "            .loc[lambda df: ~df['doc_key'].isin(both_final['doc_key'])]\n",
    "            .assign(corpus='finlayson'),\n",
    "    both_final\n",
    "            .rename(columns={'my_updated_labels': 'label'})\n",
    "            [['doc_key', 'paragraph_text', 'start', 'end', 'label']]\n",
    "            .assign(corpus='finlayson_corrected'),\n",
    "    new_data_df[['doc_key', 'paragraph_text', 'start', 'end', 'label']]\n",
    "            .assign(corpus='new')\n",
    "])"
   ]
  },
  {
   "cell_type": "code",
   "execution_count": 69,
   "metadata": {},
   "outputs": [],
   "source": [
    "data_df.to_csv('../data/combined_data_df.csv', index=False)"
   ]
  },
  {
   "cell_type": "code",
   "execution_count": null,
   "metadata": {},
   "outputs": [],
   "source": []
  }
 ],
 "metadata": {
  "hide_input": false,
  "kernelspec": {
   "display_name": "Python 3",
   "language": "python",
   "name": "python3"
  },
  "language_info": {
   "codemirror_mode": {
    "name": "ipython",
    "version": 3
   },
   "file_extension": ".py",
   "mimetype": "text/x-python",
   "name": "python",
   "nbconvert_exporter": "python",
   "pygments_lexer": "ipython3",
   "version": "3.7.3"
  },
  "latex_envs": {
   "LaTeX_envs_menu_present": true,
   "autoclose": false,
   "autocomplete": true,
   "bibliofile": "biblio.bib",
   "cite_by": "apalike",
   "current_citInitial": 1,
   "eqLabelWithNumbers": true,
   "eqNumInitial": 1,
   "hotkeys": {
    "equation": "Ctrl-E",
    "itemize": "Ctrl-I"
   },
   "labels_anchors": false,
   "latex_user_defs": false,
   "report_style_numbering": false,
   "user_envs_cfg": false
  }
 },
 "nbformat": 4,
 "nbformat_minor": 2
}
