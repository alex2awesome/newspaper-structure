{
 "cells": [
  {
   "cell_type": "code",
   "execution_count": 1,
   "metadata": {},
   "outputs": [],
   "source": [
    "from tqdm import tqdm_notebook as tqdm"
   ]
  },
  {
   "cell_type": "markdown",
   "metadata": {},
   "source": [
    "# Cross Validation"
   ]
  },
  {
   "cell_type": "code",
   "execution_count": null,
   "metadata": {},
   "outputs": [],
   "source": [
    "import os\n",
    "import sys\n",
    "sys.path.append('../models/topic_model/')\n",
    "import sampler_cy\n",
    "import json\n",
    "\n",
    "## data\n",
    "data_input = []\n",
    "with open('../models/topic_model/labeled_data/doc_vecs.json') as data:\n",
    "    for line in data:\n",
    "        data_input.append(json.loads(line))\n",
    "vocab = open('../models/topic_model/labeled_data/vocab.txt').read().split('\\n')[:-1]\n",
    "\n",
    "from sklearn.model_selection import KFold\n",
    "import numpy as np \n",
    "kf = KFold(n_splits=5)\n",
    "\n",
    "labeled_data_idx = list(filter(lambda x: x[1]['has_labels'], list(enumerate(data_input))))\n",
    "labeled_data_idx = np.array(list(map(lambda x: x[0], labeled_data_idx)))\n",
    "\n",
    "num_iterations = 1000\n",
    "kfold = 0\n",
    "\n",
    "for train_idx, test_idx in kf.split(labeled_data_idx):\n",
    "    outdir = os.path.join('crossfold-topic-model', 'fold-%d' % kfold)\n",
    "    os.makedirs(outdir, exist_ok=True)\n",
    "    ## \n",
    "    test_examples = labeled_data_idx[test_idx]\n",
    "    for idx in test_examples:\n",
    "        data_input[idx]['has_labels'] = False\n",
    "\n",
    "    ## sampler\n",
    "    sampler = sampler_cy.BOW_Paragraph_GibbsSampler(data_input, vocab=vocab)\n",
    "    sampler.initialize()\n",
    "    for i in tqdm(range(num_iterations)):\n",
    "        sampler.sample_pass()\n",
    "    sampler.save_state(outdir)\n",
    "    np.savetxt(os.path.join(outdir, 'test-examples.txt'), test_examples)    \n",
    "    \n",
    "    kfold += 1\n",
    "    del sampler"
   ]
  },
  {
   "cell_type": "markdown",
   "metadata": {},
   "source": [
    "# Read in Cross-Validated Data"
   ]
  },
  {
   "cell_type": "code",
   "execution_count": 8,
   "metadata": {},
   "outputs": [],
   "source": [
    "import os\n",
    "import glob\n",
    "import json\n",
    "import pandas as pd \n",
    "import ast\n",
    "from sklearn.metrics import f1_score\n",
    "import matplotlib.pyplot as plt\n",
    "%matplotlib inline"
   ]
  },
  {
   "cell_type": "code",
   "execution_count": 12,
   "metadata": {},
   "outputs": [],
   "source": [
    "input_data = []\n",
    "with open('../models/topic_model/labeled_data/doc_vecs.json') as f:\n",
    "    for line in f:\n",
    "        input_data.append(json.loads(line))"
   ]
  },
  {
   "cell_type": "code",
   "execution_count": 77,
   "metadata": {},
   "outputs": [],
   "source": [
    "micro_micro_results = []\n",
    "macro_results = []\n",
    "for fold in glob.glob('../models/topic_model/crossfold-topic-model/*'):\n",
    "    pardoc_to_type_file = os.path.join(fold, 'pardoc_to_type.txt')\n",
    "    pardoc_to_type = json.load(open(pardoc_to_type_file))\n",
    "\n",
    "    test = open(os.path.join(fold, 'test-examples.txt'))\n",
    "    test_set = list(map(lambda x: int(ast.literal_eval(x.strip())), test.readlines()))\n",
    "\n",
    "    y_pred, y_true = [], []\n",
    "    for e in test_set:\n",
    "        micro_micro_results.append({\n",
    "            'f1_score': f1_score(input_data[e]['labels'], pardoc_to_type[e], average='micro'),\n",
    "            'length': len(pardoc_to_type[e])\n",
    "        })\n",
    "        y_pred += pardoc_to_type[e]\n",
    "        y_true += input_data[e]['labels']\n",
    "    \n",
    "    macro_results.append({\n",
    "        'macro': f1_score(y_true, y_pred, average='macro'),\n",
    "        'micro': f1_score(y_true, y_pred, average='micro')\n",
    "    })"
   ]
  },
  {
   "cell_type": "code",
   "execution_count": 79,
   "metadata": {},
   "outputs": [
    {
     "data": {
      "text/plain": [
       "<matplotlib.collections.PathCollection at 0x210379664e0>"
      ]
     },
     "execution_count": 79,
     "metadata": {},
     "output_type": "execute_result"
    },
    {
     "data": {
      "image/png": "[encoded data removed]",
      "text/plain": [
       "<Figure size 432x288 with 1 Axes>"
      ]
     },
     "metadata": {
      "needs_background": "light"
     },
     "output_type": "display_data"
    }
   ],
   "source": [
    "results_df = pd.DataFrame(results)\n",
    "plt.scatter(results_df['length'], results_df['f1_score'])"
   ]
  },
  {
   "cell_type": "code",
   "execution_count": 81,
   "metadata": {},
   "outputs": [
    {
     "data": {
      "text/plain": [
       "<matplotlib.axes._subplots.AxesSubplot at 0x210379fe6d8>"
      ]
     },
     "execution_count": 81,
     "metadata": {},
     "output_type": "execute_result"
    },
    {
     "data": {
      "image/png": "[encoded data removed]",
      "text/plain": [
       "<Figure size 432x288 with 1 Axes>"
      ]
     },
     "metadata": {
      "needs_background": "light"
     },
     "output_type": "display_data"
    }
   ],
   "source": [
    "pd.DataFrame(macro_results).boxplot()"
   ]
  },
  {
   "cell_type": "markdown",
   "metadata": {},
   "source": [
    "# Read in Data"
   ]
  },
  {
   "cell_type": "code",
   "execution_count": 12,
   "metadata": {},
   "outputs": [],
   "source": [
    "import numpy as np \n",
    "import os\n",
    "import json\n",
    "import pandas as pd "
   ]
  },
  {
   "cell_type": "code",
   "execution_count": 24,
   "metadata": {},
   "outputs": [],
   "source": [
    "label_mapper_inverse = {\n",
    "    0: 'LEAD',\n",
    "    1: 'CIRC',\n",
    "    2: 'MAIN',\n",
    "    3: 'VERB',\n",
    "    4: 'CONS',\n",
    "    5: 'PREV',\n",
    "    6: 'EVAL',\n",
    "    7: 'HIST',\n",
    "    8: 'EXPE',\n",
    "    9: 'SECD',\n",
    "    10: 'EXPL',\n",
    "    -1: np.nan\n",
    "}"
   ]
  },
  {
   "cell_type": "code",
   "execution_count": 13,
   "metadata": {},
   "outputs": [
    {
     "data": {
      "text/plain": [
       "['doc_by_wordtopic.txt',\n",
       " 'pardoc_to_type.txt',\n",
       " 'partype_by_wordtopic.txt',\n",
       " 'switching_variable_counts.txt',\n",
       " 'vocab_by_wordtopic.txt']"
      ]
     },
     "execution_count": 13,
     "metadata": {},
     "output_type": "execute_result"
    }
   ],
   "source": [
    "os.listdir('../models/topic_model/labeled_output/model-state-iter-9999.pkl/')"
   ]
  },
  {
   "cell_type": "code",
   "execution_count": 14,
   "metadata": {},
   "outputs": [],
   "source": [
    "pardoc_to_type = json.load(open('../models/topic_model/labeled_output/model-state-iter-999.pkl/pardoc_to_type.txt'))"
   ]
  },
  {
   "cell_type": "code",
   "execution_count": 16,
   "metadata": {},
   "outputs": [],
   "source": [
    "pardoc_to_type_df = pd.DataFrame(pardoc_to_type)"
   ]
  },
  {
   "cell_type": "code",
   "execution_count": 30,
   "metadata": {},
   "outputs": [
    {
     "data": {
      "text/plain": [
       "index\n",
       "VERB    22693\n",
       "CIRC    11951\n",
       "MAIN     8508\n",
       "PREV     6549\n",
       "EVAL     5784\n",
       "CONS     5672\n",
       "HIST     4020\n",
       "LEAD     3426\n",
       "EXPE     2493\n",
       "SECD     1308\n",
       "EXPL      224\n",
       "NaN         3\n",
       "Name: 0, dtype: int64"
      ]
     },
     "execution_count": 30,
     "metadata": {},
     "output_type": "execute_result"
    }
   ],
   "source": [
    "(pardoc_to_type_df.unstack().dropna()\n",
    " .value_counts()\n",
    " .reset_index()\n",
    " .assign(index=lambda df: df['index'].map(label_mapper_inverse))\n",
    " .set_index('index')[0]\n",
    ")"
   ]
  },
  {
   "cell_type": "code",
   "execution_count": null,
   "metadata": {},
   "outputs": [],
   "source": []
  },
  {
   "cell_type": "code",
   "execution_count": null,
   "metadata": {},
   "outputs": [],
   "source": []
  },
  {
   "cell_type": "code",
   "execution_count": null,
   "metadata": {},
   "outputs": [],
   "source": []
  },
  {
   "cell_type": "code",
   "execution_count": null,
   "metadata": {},
   "outputs": [],
   "source": []
  },
  {
   "cell_type": "code",
   "execution_count": null,
   "metadata": {},
   "outputs": [],
   "source": []
  },
  {
   "cell_type": "code",
   "execution_count": null,
   "metadata": {},
   "outputs": [],
   "source": []
  },
  {
   "cell_type": "code",
   "execution_count": null,
   "metadata": {},
   "outputs": [],
   "source": []
  }
 ],
 "metadata": {
  "hide_input": false,
  "kernelspec": {
   "display_name": "Python 3",
   "language": "python",
   "name": "python3"
  },
  "language_info": {
   "codemirror_mode": {
    "name": "ipython",
    "version": 3
   },
   "file_extension": ".py",
   "mimetype": "text/x-python",
   "name": "python",
   "nbconvert_exporter": "python",
   "pygments_lexer": "ipython3",
   "version": "3.7.3"
  },
  "latex_envs": {
   "LaTeX_envs_menu_present": true,
   "autoclose": false,
   "autocomplete": true,
   "bibliofile": "biblio.bib",
   "cite_by": "apalike",
   "current_citInitial": 1,
   "eqLabelWithNumbers": true,
   "eqNumInitial": 1,
   "hotkeys": {
    "equation": "Ctrl-E",
    "itemize": "Ctrl-I"
   },
   "labels_anchors": false,
   "latex_user_defs": false,
   "report_style_numbering": false,
   "user_envs_cfg": false
  }
 },
 "nbformat": 4,
 "nbformat_minor": 2
}
