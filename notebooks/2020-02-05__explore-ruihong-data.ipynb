{
 "cells": [
  {
   "cell_type": "code",
   "execution_count": 18,
   "metadata": {},
   "outputs": [],
   "source": [
    "import os\n",
    "import pandas as pd "
   ]
  },
  {
   "cell_type": "code",
   "execution_count": 23,
   "metadata": {},
   "outputs": [
    {
     "data": {
      "text/plain": [
       "['.DS_Store', 'business', 'crime', 'disaster', 'politics']"
      ]
     },
     "execution_count": 23,
     "metadata": {},
     "output_type": "execute_result"
    }
   ],
   "source": [
    "os.listdir('../data/ruihong_news_structure_data/sampled/')"
   ]
  },
  {
   "cell_type": "code",
   "execution_count": 9,
   "metadata": {},
   "outputs": [],
   "source": [
    "t = open('../data/ruihong_news_structure_data/labels.txt').read().split('\\n')"
   ]
  },
  {
   "cell_type": "code",
   "execution_count": 20,
   "metadata": {},
   "outputs": [],
   "source": [
    "labels_df = pd.DataFrame( list(map(lambda x: x.split(), t)), columns=['file', 'article_type', 'structure'])"
   ]
  },
  {
   "cell_type": "code",
   "execution_count": 24,
   "metadata": {},
   "outputs": [
    {
     "data": {
      "text/plain": [
       "file            nyt_eng_201002_file_2446.xml\n",
       "article_type                        business\n",
       "structure                   inverted_pyramid\n",
       "Name: 0, dtype: object"
      ]
     },
     "execution_count": 24,
     "metadata": {},
     "output_type": "execute_result"
    }
   ],
   "source": [
    "labels_df.loc[0]"
   ]
  },
  {
   "cell_type": "code",
   "execution_count": 29,
   "metadata": {},
   "outputs": [
    {
     "data": {
      "text/plain": [
       "True"
      ]
     },
     "execution_count": 29,
     "metadata": {},
     "output_type": "execute_result"
    }
   ],
   "source": [
    "'nyt_eng_201002_file_2446.xml' in os.listdir('../data/ruihong_news_structure_data/sampled/business/')"
   ]
  },
  {
   "cell_type": "code",
   "execution_count": 31,
   "metadata": {},
   "outputs": [],
   "source": [
    "t = open('../data/ruihong_news_structure_data/sampled/business/nyt_eng_201001_file_1238.xml').read()"
   ]
  },
  {
   "cell_type": "code",
   "execution_count": 39,
   "metadata": {},
   "outputs": [
    {
     "data": {
      "text/plain": [
       "inverted_pyramid    482\n",
       "kabob               237\n",
       "narrative            76\n",
       "martini_glass        37\n",
       "other                21\n",
       "Name: structure, dtype: int64"
      ]
     },
     "execution_count": 39,
     "metadata": {},
     "output_type": "execute_result"
    }
   ],
   "source": [
    "labels_df['structure'].value_counts()"
   ]
  },
  {
   "cell_type": "code",
   "execution_count": 36,
   "metadata": {},
   "outputs": [
    {
     "name": "stdout",
     "output_type": "stream",
     "text": [
      "\n",
      "<DOC id=\"NYT_ENG_20100108.0149\" type=\"story\", class=\"inverted_pyramid\" >\n",
      "<HEADLINE>\n",
      "China now top auto market Surge to estimated 13.6M sales in '09 passes slumping U.S.\n",
      "</HEADLINE>\n",
      "<TEXT>\n",
      "<STANDARD_LEDE>\n",
      "<P>\n",
      "It's official: China is the world's largest vehicle market after\n",
      "passing the United States last year for the first time.\n",
      "</P>\n",
      "</STANDARD_LEDE>\n",
      "<BODY_SECTION>\n",
      "<P>\n",
      "Passenger car sales totaled 10.3 million in China last year,\n",
      "according to the China Passenger Car Association. Including trucks,\n",
      "total Chinese vehicle sales are estimated at 13.6 million units, up\n",
      "45 percent, it said.\n",
      "</P>\n",
      "<P>\n",
      "By contrast, U.S. car and light truck sales shrank 21.2 percent\n",
      "to 10.4 million in 2009, according to Autodata Corp. Including\n",
      "medium and heavy tracks, they would come close to 10.7 million\n",
      "units.\n",
      "</P>\n",
      "<P>\n",
      "Demand for vehicles picked up in the U.S. in the second half,\n",
      "helped by a \"cash-for-clunkers\" program that also took many older\n",
      "and more polluting vehicles off the road. The Chinese government\n",
      "offered similar incentives.\n",
      "</P>\n",
      "<P>\n",
      "Chinese auto sales began to take off early in the last decade,\n",
      "helped by the emergence of a middle class with savings and pent-up\n",
      "demand for modern cars.\n",
      "</P>\n",
      "<P>\n",
      "The growth in China's auto market -- and last year's surge --\n",
      "has consistently surpassed forecasters' expectations.\n",
      "</P>\n",
      "<P>\n",
      "\"This is even better than anyone expected,\" Rao Da, general\n",
      "secretary of the China Passenger Car Association, told a news\n",
      "conference Friday in Shanghai, according to the Associated Press.\n",
      "</P>\n",
      "<P>\n",
      "The Chinese organization's figures were in line with revised\n",
      "forecasts from J.D. Power and Associates of 12.7 million sales of\n",
      "cars and light trucks and 900,000 larger vehicles in 2009 for a\n",
      "total of 13.6 million.\n",
      "</P>\n",
      "<P>\n",
      "\"It's very, very strong growth, far beyond the expectations we\n",
      "had in the early part of 2009,\" said John Bonnell, a J.D. Power\n",
      "analyst.\n",
      "</P>\n",
      "<P>\n",
      "On average, analysts expect Chinese auto sales to grow another\n",
      "10 percent this year. Barring extreme economic or political\n",
      "upheaval, China is expected to remain the No. 1 market in the\n",
      "foreseeable future.\n",
      "</P>\n",
      "<P>\n",
      "Its rise ahead of the U.S. market is the latest milestone on its\n",
      "path to become a global economic power. After a two-decade boom,\n",
      "China is believed to have passed Germany last year as the biggest\n",
      "exporter.\n",
      "</P>\n",
      "<P>\n",
      "With a population of 1.3 billion, it is expected to overtake\n",
      "Japan soon as the second-largest economy after the U.S.\n",
      "</P>\n",
      "<P>\n",
      "Automakers such as General Motors Co., Ford Motor Co., and\n",
      "Volkswagen AG have benefited from the boom in China, where they\n",
      "sell vehicles produced in ventures with local partners. China is\n",
      "VW's biggest market.\n",
      "</P>\n",
      "<P>\n",
      "GM says sales of its vehicles and those produced by its local\n",
      "partners rose 67 percent in China last year, while Ford's sales\n",
      "increased 44 percent.\n",
      "</P>\n",
      "</BODY_SECTION>\n",
      "</TEXT>\n",
      "</DOC>\n",
      "\n"
     ]
    }
   ],
   "source": [
    "print(t)"
   ]
  },
  {
   "cell_type": "code",
   "execution_count": null,
   "metadata": {},
   "outputs": [],
   "source": []
  }
 ],
 "metadata": {
  "hide_input": false,
  "kernelspec": {
   "display_name": "Python 3",
   "language": "python",
   "name": "python3"
  },
  "language_info": {
   "codemirror_mode": {
    "name": "ipython",
    "version": 3
   },
   "file_extension": ".py",
   "mimetype": "text/x-python",
   "name": "python",
   "nbconvert_exporter": "python",
   "pygments_lexer": "ipython3",
   "version": "3.7.3"
  },
  "latex_envs": {
   "LaTeX_envs_menu_present": true,
   "autoclose": false,
   "autocomplete": true,
   "bibliofile": "biblio.bib",
   "cite_by": "apalike",
   "current_citInitial": 1,
   "eqLabelWithNumbers": true,
   "eqNumInitial": 1,
   "hotkeys": {
    "equation": "Ctrl-E",
    "itemize": "Ctrl-I"
   },
   "labels_anchors": false,
   "latex_user_defs": false,
   "report_style_numbering": false,
   "user_envs_cfg": false
  }
 },
 "nbformat": 4,
 "nbformat_minor": 2
}
