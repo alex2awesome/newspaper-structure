{
 "cells": [
  {
   "cell_type": "code",
   "execution_count": 1,
   "metadata": {},
   "outputs": [],
   "source": [
    "from tqdm import tqdm_notebook as tqdm"
   ]
  },
  {
   "cell_type": "markdown",
   "metadata": {},
   "source": [
    "# Cross Validation"
   ]
  },
  {
   "cell_type": "code",
   "execution_count": null,
   "metadata": {},
   "outputs": [],
   "source": [
    "import os\n",
    "import sys\n",
    "sys.path.append('../models/topic_model/')\n",
    "import sampler_cy\n",
    "import json\n",
    "\n",
    "## data\n",
    "data_input = []\n",
    "with open('../models/topic_model/labeled_data/doc_vecs.json') as data:\n",
    "    for line in data:\n",
    "        data_input.append(json.loads(line))\n",
    "vocab = open('../models/topic_model/labeled_data/vocab.txt').read().split('\\n')[:-1]\n",
    "\n",
    "from sklearn.model_selection import KFold\n",
    "import numpy as np \n",
    "kf = KFold(n_splits=5)\n",
    "\n",
    "labeled_data_idx = list(filter(lambda x: x[1]['has_labels'], list(enumerate(data_input))))\n",
    "labeled_data_idx = np.array(list(map(lambda x: x[0], labeled_data_idx)))\n",
    "\n",
    "num_iterations = 1000\n",
    "kfold = 0\n",
    "\n",
    "for train_idx, test_idx in kf.split(labeled_data_idx):\n",
    "    outdir = os.path.join('crossfold-topic-model', 'fold-%d' % kfold)\n",
    "    os.makedirs(outdir, exist_ok=True)\n",
    "    ## \n",
    "    test_examples = labeled_data_idx[test_idx]\n",
    "    for idx in test_examples:\n",
    "        data_input[idx]['has_labels'] = False\n",
    "\n",
    "    ## sampler\n",
    "    sampler = sampler_cy.BOW_Paragraph_GibbsSampler(data_input, vocab=vocab)\n",
    "    sampler.initialize()\n",
    "    for i in tqdm(range(num_iterations)):\n",
    "        sampler.sample_pass()\n",
    "    sampler.save_state(outdir)\n",
    "    np.savetxt(os.path.join(outdir, 'test-examples.txt'), test_examples)    \n",
    "    \n",
    "    kfold += 1\n",
    "    del sampler"
   ]
  },
  {
   "cell_type": "code",
   "execution_count": null,
   "metadata": {},
   "outputs": [],
   "source": []
  },
  {
   "cell_type": "code",
   "execution_count": null,
   "metadata": {},
   "outputs": [],
   "source": []
  },
  {
   "cell_type": "markdown",
   "metadata": {},
   "source": [
    "# Read in Data"
   ]
  },
  {
   "cell_type": "code",
   "execution_count": 12,
   "metadata": {},
   "outputs": [],
   "source": [
    "import numpy as np \n",
    "import os\n",
    "import json\n",
    "import pandas as pd "
   ]
  },
  {
   "cell_type": "code",
   "execution_count": 24,
   "metadata": {},
   "outputs": [],
   "source": [
    "label_mapper_inverse = {\n",
    "    0: 'LEAD',\n",
    "    1: 'CIRC',\n",
    "    2: 'MAIN',\n",
    "    3: 'VERB',\n",
    "    4: 'CONS',\n",
    "    5: 'PREV',\n",
    "    6: 'EVAL',\n",
    "    7: 'HIST',\n",
    "    8: 'EXPE',\n",
    "    9: 'SECD',\n",
    "    10: 'EXPL',\n",
    "    -1: np.nan\n",
    "}"
   ]
  },
  {
   "cell_type": "code",
   "execution_count": 13,
   "metadata": {},
   "outputs": [
    {
     "data": {
      "text/plain": [
       "['doc_by_wordtopic.txt',\n",
       " 'pardoc_to_type.txt',\n",
       " 'partype_by_wordtopic.txt',\n",
       " 'switching_variable_counts.txt',\n",
       " 'vocab_by_wordtopic.txt']"
      ]
     },
     "execution_count": 13,
     "metadata": {},
     "output_type": "execute_result"
    }
   ],
   "source": [
    "os.listdir('../models/topic_model/labeled_output/model-state-iter-9999.pkl/')"
   ]
  },
  {
   "cell_type": "code",
   "execution_count": 14,
   "metadata": {},
   "outputs": [],
   "source": [
    "pardoc_to_type = json.load(open('../models/topic_model/labeled_output/model-state-iter-999.pkl/pardoc_to_type.txt'))"
   ]
  },
  {
   "cell_type": "code",
   "execution_count": 16,
   "metadata": {},
   "outputs": [],
   "source": [
    "pardoc_to_type_df = pd.DataFrame(pardoc_to_type)"
   ]
  },
  {
   "cell_type": "code",
   "execution_count": 30,
   "metadata": {},
   "outputs": [
    {
     "data": {
      "text/plain": [
       "index\n",
       "VERB    22693\n",
       "CIRC    11951\n",
       "MAIN     8508\n",
       "PREV     6549\n",
       "EVAL     5784\n",
       "CONS     5672\n",
       "HIST     4020\n",
       "LEAD     3426\n",
       "EXPE     2493\n",
       "SECD     1308\n",
       "EXPL      224\n",
       "NaN         3\n",
       "Name: 0, dtype: int64"
      ]
     },
     "execution_count": 30,
     "metadata": {},
     "output_type": "execute_result"
    }
   ],
   "source": [
    "(pardoc_to_type_df.unstack().dropna()\n",
    " .value_counts()\n",
    " .reset_index()\n",
    " .assign(index=lambda df: df['index'].map(label_mapper_inverse))\n",
    " .set_index('index')[0]\n",
    ")"
   ]
  },
  {
   "cell_type": "code",
   "execution_count": null,
   "metadata": {},
   "outputs": [],
   "source": []
  },
  {
   "cell_type": "code",
   "execution_count": null,
   "metadata": {},
   "outputs": [],
   "source": []
  },
  {
   "cell_type": "code",
   "execution_count": null,
   "metadata": {},
   "outputs": [],
   "source": []
  },
  {
   "cell_type": "code",
   "execution_count": null,
   "metadata": {},
   "outputs": [],
   "source": []
  },
  {
   "cell_type": "code",
   "execution_count": null,
   "metadata": {},
   "outputs": [],
   "source": []
  },
  {
   "cell_type": "code",
   "execution_count": null,
   "metadata": {},
   "outputs": [],
   "source": []
  },
  {
   "cell_type": "code",
   "execution_count": null,
   "metadata": {},
   "outputs": [],
   "source": []
  }
 ],
 "metadata": {
  "hide_input": false,
  "kernelspec": {
   "display_name": "Python 3",
   "language": "python",
   "name": "python3"
  },
  "language_info": {
   "codemirror_mode": {
    "name": "ipython",
    "version": 3
   },
   "file_extension": ".py",
   "mimetype": "text/x-python",
   "name": "python",
   "nbconvert_exporter": "python",
   "pygments_lexer": "ipython3",
   "version": "3.7.3"
  },
  "latex_envs": {
   "LaTeX_envs_menu_present": true,
   "autoclose": false,
   "autocomplete": true,
   "bibliofile": "biblio.bib",
   "cite_by": "apalike",
   "current_citInitial": 1,
   "eqLabelWithNumbers": true,
   "eqNumInitial": 1,
   "hotkeys": {
    "equation": "Ctrl-E",
    "itemize": "Ctrl-I"
   },
   "labels_anchors": false,
   "latex_user_defs": false,
   "report_style_numbering": false,
   "user_envs_cfg": false
  }
 },
 "nbformat": 4,
 "nbformat_minor": 2
}
